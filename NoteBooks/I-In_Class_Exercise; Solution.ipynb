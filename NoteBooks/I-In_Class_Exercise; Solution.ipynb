{
 "cells": [
  {
   "cell_type": "markdown",
   "metadata": {},
   "source": [
    "# Our Task: Find similar company names\n",
    "\n",
    "Now that we have completed our Python Primer, let's try to complete a real task, while at the same time trying to practice loops, iterations, and other Python functionality that we studied.\n",
    "\n",
    "### Matching Company Names\n",
    "\n",
    "Quite often, in our data, we have entries represented as strings that refer to the same entity but have different string representations (e.g., McDonald's vs McDonalds vs McDonald‎). We want to write code that will help in the task of finding such similar entries in our data.\n",
    "\n",
    "Our task can be broken in the following tasks:\n",
    "* **Step 1**: Read the data from a file into a list of strings in memory. We have two data sets under the `data` folder: The list of unique restaurant names from the NYC Restaurant Inspection dataset (`data/restaurant-names.txt`) and a list of bank names (`data/bank-names.txt`) We need to write Python code that will read these files and return a list of strings that are the company names.\n",
    "* **Step 2**: We will then need to figure out how to compare two strings and find their similarity. For that, we need to write a function that takes as input two strings, and returns back their similarities (we will see below how to do that).\n",
    "* **Step 3**: We will need to write a function that takes as input a company name, and returns back a list of matching company names, together with their similarity. Ideally, we would like to also sort the list based on the similarity (highest similarity metrics on top). As part of our learning process, we will use the _list comprehension_ approach to create the list. We will also use tuples as the elements of the list, so that the list contain elements such as `[(\"McDonalds\", 0.88), (\"McDonald's\", 0.81),....]`.\n",
    "* **Step 4**: In the final step, we will just perform the similarity computation across all companies in the dataset.\n"
   ]
  },
  {
   "cell_type": "markdown",
   "metadata": {},
   "source": [
    "### STEP 1: Read the list of names from a file and create a list of names"
   ]
  },
  {
   "cell_type": "code",
   "execution_count": null,
   "metadata": {
    "collapsed": false
   },
   "outputs": [],
   "source": [
    "# STEP 1: Read the list of names from a file and create a list of names\n",
    "f = open(\"data/restaurant-names.txt\", \"r\")\n",
    "content = f.read()\n",
    "f.close()\n",
    "lines = content.split(\"\\n\")"
   ]
  },
  {
   "cell_type": "markdown",
   "metadata": {},
   "source": [
    "### STEP 2: Implement the similarity function"
   ]
  },
  {
   "cell_type": "markdown",
   "metadata": {},
   "source": [
    "### Computing the similarity between two strings\n",
    "\n",
    "There are many ways that we can calculate the similarity between two strings (e.g., see [1](http://en.wikipedia.org/wiki/String_metric), [2](http://en.wikipedia.org/wiki/Approximate_string_matching), [3](http://en.wikipedia.org/wiki/Plagiarism_detection), [4](https://www.cs.cmu.edu/~pradeepr/papers/ijcai03.pdf), [5](http://en.wikipedia.org/wiki/Category:String_similarity_measures), and links within). \n",
    "\n",
    "For our example, we will use the q-gram similarity metric. What is a q-gram? Simply a sequency of q-consecutive characters in the string. For example, the name \"Panos\" has the following 2-grams: \"Pa\", \"an\", \"no\", \"os\". (We can also add \"#P\" and \"s#\" if we want to capture the prefix and suffixes.) Strings that share a large number of q-grams are often similar. \n",
    "\n",
    "Hence, we can compute the similarity of two strings by first computing the set of q-grams for each string, and then compute the Jaccard coefficient between these sets. The [Jaccard coefficient](http://en.wikipedia.org/wiki/Jaccard_index) is simply defined as the size of the intersection divided by the size of the union of the two sets.\n",
    "\n",
    "So, our task can be broken into two functions: \n",
    "* The first function takes a string and returns a list of the q-grams for the string, and \n",
    "* The second function takes as input two sets, and returns back their Jaccard coefficient."
   ]
  },
  {
   "cell_type": "code",
   "execution_count": null,
   "metadata": {
    "collapsed": false
   },
   "outputs": [],
   "source": [
    "# STEP 2: Now we implement our similarity function\n",
    "\n",
    "# This returns a list of q-grams for a name\n",
    "# getQgrams(\"Panos\", 1) should return [\"P\", \"a\", \"n\", \"s\"]\n",
    "# getQgrams(\"Panos\", 2) should return [\"Pa\", \"an\", \"no\", \"os\"]\n",
    "# etc\n",
    "def getQgrams(name, q):\n",
    "    # We add a little bit of padding of '#' characters\n",
    "    # to create q-grams for the beginning and end of the \n",
    "    # string as well\n",
    "    name = (q-1)*'#' + name + (q-1)*'#'\n",
    "    length = len(name)\n",
    "    qgrams = []\n",
    "    for c in range(length):\n",
    "        qgram = name[c:c+q]\n",
    "        qgrams.append(qgram)\n",
    "    return qgrams\n",
    "\n",
    "# This function takes as input two names, computes their qgrams, and then computes\n",
    "# the Jaccard coefficient (=intersection/union) of the two sets of qgrams\n",
    "def jaccard(setA, setB):\n",
    "    intersection = set(setA) & set(setB)\n",
    "    union = set(setA) | set(setB)\n",
    "    similarity = 1.0*len(intersection)/len(union)\n",
    "    return similarity\n",
    "\n",
    "def computeSimilarity(name1, name2, q):\n",
    "    qgrams1 = getQgrams(name1.upper(), q)\n",
    "    qgrams2 = getQgrams(name2.upper(), q)\n",
    "    similarity = jaccard(qgrams1, qgrams2)\n",
    "    return similarity"
   ]
  },
  {
   "cell_type": "code",
   "execution_count": null,
   "metadata": {
    "collapsed": false
   },
   "outputs": [],
   "source": [
    "# Let's test our similarity function\n",
    "computeSimilarity(\"Microsoft\", \"Micrsoft\", 3)"
   ]
  },
  {
   "cell_type": "code",
   "execution_count": null,
   "metadata": {
    "collapsed": false
   },
   "outputs": [],
   "source": [
    "computeSimilarity(\"Microsoft\", \"Micrsoft\", 2)"
   ]
  },
  {
   "cell_type": "code",
   "execution_count": null,
   "metadata": {
    "collapsed": false
   },
   "outputs": [],
   "source": [
    "computeSimilarity(\"Microsoft\", \"Google\", 3)"
   ]
  },
  {
   "cell_type": "markdown",
   "metadata": {},
   "source": [
    "### STEP 3: Compute similarity of a company against a list of company names"
   ]
  },
  {
   "cell_type": "markdown",
   "metadata": {},
   "source": [
    "We now create a function that accepts a company name and a list of companies, and computes their similarity. This part will get us to exercise our for-loops, and also illustrate how we can use lists and tuples."
   ]
  },
  {
   "cell_type": "markdown",
   "metadata": {},
   "source": [
    "**Sorting a list of tuples**:_This part is a little bit advanced for now, so I will just give the code below. (Solution taken from http://stackoverflow.com/questions/3121979/how-to-sort-list-tuple-of-lists-tuples). Here is a small example below, which we will reuse in our function:_"
   ]
  },
  {
   "cell_type": "code",
   "execution_count": null,
   "metadata": {
    "collapsed": false
   },
   "outputs": [],
   "source": [
    "data = [(\"Panos\",0.5), (\"Peter\",0.6), (\"Pan\", 0.4)]\n",
    "data.sort(key=lambda tupl: tupl[1], reverse=True)  # sorts in place, in descending order, based on the second element of the tuple\n",
    "data"
   ]
  },
  {
   "cell_type": "code",
   "execution_count": null,
   "metadata": {
    "collapsed": false
   },
   "outputs": [],
   "source": [
    "# STEP 3: We now create a function that accepts a company name\n",
    "# and a list of companies, and computes their similarity\n",
    "# We have a threshold parameter (by default set to be 0.5)\n",
    "# that restricts the results to only string pairs with similarity\n",
    "# above the threshold\n",
    "\n",
    "# queryData finds similar names to a query\n",
    "def queryData(query, companyList, threshold, q):\n",
    "    result = []\n",
    "    for r in companyList:\n",
    "        # I will compute the similarity of the \"query\" string\n",
    "        # with each restaurant \"r\", where \"r\" is the variable in the for loop\n",
    "        similarity = computeSimilarity(query, r, q)\n",
    "        # if the similarity is above 0.5, I will print the result\n",
    "        if similarity>threshold:\n",
    "            result.append( (r, similarity) )\n",
    "    return result\n",
    "\n",
    "def companySimilarity(companyName, companyList, threshold = 0.5, q = 3):\n",
    "    results = queryData(companyName, companyList, threshold, q)\n",
    "    results.sort(key=lambda tupl: tupl[1], reverse=True)\n",
    "    return results\n"
   ]
  },
  {
   "cell_type": "code",
   "execution_count": null,
   "metadata": {
    "collapsed": false
   },
   "outputs": [],
   "source": [
    "# This is the name of the restaurant that I am looking for\n",
    "query = \"McDonalds\"\n",
    "# This is the similarity configuration parameter\n",
    "q = 3\n",
    "threshold = 0.25\n",
    "# lines contains the list of companiues\n",
    "companySimilarity(query, lines, threshold, q)"
   ]
  },
  {
   "cell_type": "markdown",
   "metadata": {},
   "source": [
    "### Step 4: Perform the similarity computation across all companies in the dataset."
   ]
  },
  {
   "cell_type": "code",
   "execution_count": null,
   "metadata": {
    "collapsed": false
   },
   "outputs": [],
   "source": [
    "# STEP 4: We are almost done. We now just go through all the companies in the list\n",
    "# and we call the companySimilarity function that computes the similar company names\n",
    "# for all the companies in the list. We store the results in a dictionary, with the \n",
    "# key being the company name, and the value being a \"list of tuples\" with the \n",
    "# similar company names and the corresponding similarity value.\n",
    "for companyName in lines:\n",
    "    matches = companySimilarity(companyName, lines, threshold, q)\n",
    "    print(companyName, \"===>\")\n",
    "    # we will print the top-4 matching names\n",
    "    print(matches[:4])\n",
    "    print(\"================\")"
   ]
  },
  {
   "cell_type": "code",
   "execution_count": null,
   "metadata": {
    "collapsed": true
   },
   "outputs": [],
   "source": []
  }
 ],
 "metadata": {
  "kernelspec": {
   "display_name": "Python 3",
   "language": "python",
   "name": "python3"
  },
  "language_info": {
   "codemirror_mode": {
    "name": "ipython",
    "version": 3
   },
   "file_extension": ".py",
   "mimetype": "text/x-python",
   "name": "python",
   "nbconvert_exporter": "python",
   "pygments_lexer": "ipython3",
   "version": "3.5.1+"
  }
 },
 "nbformat": 4,
 "nbformat_minor": 0
}
