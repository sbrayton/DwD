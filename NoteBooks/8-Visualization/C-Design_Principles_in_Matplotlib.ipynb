{
 "cells": [
  {
   "cell_type": "markdown",
   "metadata": {},
   "source": [
    "# Implementation of typographic and design principles in `matplotlib` and iPython notebook\n",
    "\n",
    "UCSD Scientific Python User's Group, April 10th, 2013\n",
    "\n",
    "* Author: Olga Botvinnik\n",
    "* Email: obotvinn@ucsd.edu\n",
    "* Twitter: @olgabot\n",
    "* Blog: http://blog.olgabotvinnik.com\n",
    "\n",
    "## Outline\n",
    "\n",
    "1. Why should I care about design?\n",
    "2. Matplotlib\n",
    "    1. Default colors\n",
    "        1. Lines and scatterplots\n",
    "        2. Heatmaps\n",
    "    2. Default fonts\n",
    "    3. Removing \"chartjunk\"\n",
    "    4. Sparklines\n",
    "3. Final notes\n",
    "    1. iPython notebook\n",
    "        1. Default fonts and layouts via custom profiles\n",
    "    2. Bokeh plotting package: the future?"
   ]
  },
  {
   "cell_type": "markdown",
   "metadata": {},
   "source": [
    "## Why should I care about design?\n",
    "\n",
    "Bad design = difficult interpretation, possible loss of information, and inability to recognize trends. I will use concepts from [_Visual Display of Quantitative Information_, 2nd Ed, by Edward Tufte, Graphics Press (2001)](http://www.amazon.com/Visual-Display-Quantitative-Information/dp/0961392142).\n",
    "\n",
    "Do not do [this bad example from the `matplotlib` gallery](http://matplotlib.org/examples/pylab_examples/hist2d_log_demo.html):\n",
    "        \n",
    "![](http://matplotlib.org/_images/hist2d_log_demo.png)\n",
    "\n",
    "Why is this so bad? The divergent 'rainbow' color scheme makes it difficult to compare. Humans are terrible at using different hues to discriminate between different values, but alright at using saturation, such as one color from very light to very dark.\n",
    "\n",
    "Or [this also terrible example from the gallery](http://matplotlib.org/examples/pylab_examples/demo_ribbon_box.html):\n",
    "        \n",
    "![](http://matplotlib.org/_images/demo_ribbon_box.png)\n",
    "\n",
    "Why is this so bad? The graphics of the box distract from the true information. It would be much more effective as a plain bar chart.\n",
    "\n",
    "\n",
    "\n",
    "We will talk about how to"
   ]
  },
  {
   "cell_type": "markdown",
   "metadata": {},
   "source": [
    "## Matplotlib\n",
    "\n",
    "### Default colors\n",
    "\n",
    "#### Lines and scatterplots\n",
    "\n",
    "The default colors in `matplotlib` are not pretty, nor are they conducive to easy comparison. They were meant to be familiar to `MATLAB` users but that's not a good reason for poor design choices."
   ]
  },
  {
   "cell_type": "code",
   "execution_count": null,
   "metadata": {
    "collapsed": false
   },
   "outputs": [],
   "source": [
    "# For setting parameters, we will need to use matplotlib (mpl) directly\n",
    "import matplotlib as mpl\n",
    "\n",
    "# This is the usual invocation of pyplot\n",
    "import matplotlib.pyplot as plt\n",
    "\n",
    "import numpy as np\n",
    "import pandas as pd\n",
    "\n",
    "# Set the random seed for consistency\n",
    "np.random.seed(12)\n",
    "\n",
    "# I happen to know that there are 7 default colors in matplotlib\n",
    "for i in range(7):\n",
    "    plt.plot(np.random.randn(1000).cumsum())"
   ]
  },
  {
   "cell_type": "markdown",
   "metadata": {},
   "source": [
    "Ugh. It's an unfortunate mishmash of RGB+CYMK: Red, blue, green, and cyan, yellow, magenta and blac(k). But we already know that we can do better.\n",
    "\n",
    "In 2003, Cynthia Brewer and colleagues released guidelines for coloring maps with sequential, divergent, and qualitative colors, and these guidelines are now available through [http://colorbrewer2.org/](http://colorbrewer2.org/). These colors are included in an existing package in `R`, but only recently someone added these colors to Python through the package `brewer2mpl`, intended as being used in `matplotlib`.\n",
    "\n",
    "An example import is, (from the author's [blog post](http://penandpants.com/tag/colorbrewer/)):\n",
    "\n",
    "    import brewer2mpl\n",
    "    bmap = brewer2mpl.get_map('Set1', 'qualitative', 5)\n",
    "    colors = bmap.mpl_colors\n",
    "    \n",
    "So let's install this package."
   ]
  },
  {
   "cell_type": "code",
   "execution_count": null,
   "metadata": {
    "collapsed": false
   },
   "outputs": [],
   "source": [
    "! sudo easy_install brewer2mpl"
   ]
  },
  {
   "cell_type": "markdown",
   "metadata": {},
   "source": [
    "(can't do interactive terminal stuff in iPython so I did this in my actual terminal)\n",
    " \n",
    "The output:"
   ]
  },
  {
   "cell_type": "raw",
   "metadata": {},
   "source": [
    "Searching for brewer2mpl\n",
    "Reading http://pypi.python.org/simple/brewer2mpl/\n",
    "Reading https://github.com/jiffyclub/brewer2mpl/wiki\n",
    "Best match: brewer2mpl 1.3.1\n",
    "Downloading http://pypi.python.org/packages/source/b/brewer2mpl/brewer2mpl-1.3.1.zip#md5=ae1e2cfc57e7e022e0208e2b5a994292\n",
    "Processing brewer2mpl-1.3.1.zip\n",
    "Writing /tmp/easy_install-9BiZaj/brewer2mpl-1.3.1/setup.cfg\n",
    "Running brewer2mpl-1.3.1/setup.py -q bdist_egg --dist-dir /tmp/easy_install-9BiZaj/brewer2mpl-1.3.1/egg-dist-tmp-UKWbyr\n",
    "zip_safe flag not set; analyzing archive contents...\n",
    "brewer2mpl.brewer2mpl: module references __file__\n",
    "Adding brewer2mpl 1.3.1 to easy-install.pth file\n",
    "\n",
    "Installed /Library/Frameworks/EPD64.framework/Versions/7.3/lib/python2.7/site-packages/brewer2mpl-1.3.1-py2.7.egg\n",
    "Processing dependencies for brewer2mpl\n",
    "Finished processing dependencies for brewer2mpl"
   ]
  },
  {
   "cell_type": "code",
   "execution_count": null,
   "metadata": {
    "collapsed": false
   },
   "outputs": [],
   "source": [
    "! cat ~/.matplotlibrc | grep color_cycle"
   ]
  },
  {
   "cell_type": "code",
   "execution_count": null,
   "metadata": {
    "collapsed": false
   },
   "outputs": [],
   "source": [
    "import brewer2mpl\n",
    "\n",
    "# brewer2mpl.get_map args: set name  set type  number of colors\n",
    "bmap = brewer2mpl.get_map('Set2', 'qualitative', 7)\n",
    "colors = bmap.mpl_colors\n",
    "print colors"
   ]
  },
  {
   "cell_type": "markdown",
   "metadata": {},
   "source": [
    "We have a list of 3-tuples of RGB decimal values, from 0 to 1, as specified in the [`matplotlib` `colors` API](http://matplotlib.org/api/colors_api.html). You may be used to seeing RGB specifications in values between 0 and 255, and this is the same thing, except it's a fraction of 255.\n",
    "\n",
    "Now let's use these colors to plot. To do so, we'll have to change the default color cycle of matplotlib via the command,\n",
    "\n",
    "    mpl.rcParams['axes.color_cycle'] = colors\n",
    "    \n",
    "Now that `mpl` we imported earlier is coming in handy!"
   ]
  },
  {
   "cell_type": "code",
   "execution_count": null,
   "metadata": {
    "collapsed": false
   },
   "outputs": [],
   "source": [
    "# Set the random seed for consistency\n",
    "np.random.seed(12)\n",
    "\n",
    "# Change the default colors\n",
    "mpl.rcParams['axes.color_cycle'] = colors\n",
    "\n",
    "# I happen to know that there are 7 default colors in matplotlib\n",
    "for i in range(7):\n",
    "    plt.plot(np.random.randn(1000).cumsum())"
   ]
  },
  {
   "cell_type": "markdown",
   "metadata": {},
   "source": [
    "Now that looks much better! Here is a cheat sheet of the ColorBrewer colors (from the [cbrewer](http://www.mathworks.com/matlabcentral/fileexchange/34087-cbrewer-colorbrewer-schemes-for-matlab) page on Mathworks website)\n",
    "\n",
    "![](http://www.mathworks.com/matlabcentral/fx_files/34087/1/cbrewer_preview.jpg)"
   ]
  },
  {
   "cell_type": "markdown",
   "metadata": {},
   "source": [
    "As for scatterplots, I prefer to show them with a very thin, grey line around the circle. So instead of no outlines like this:"
   ]
  },
  {
   "cell_type": "code",
   "execution_count": null,
   "metadata": {
    "collapsed": false
   },
   "outputs": [],
   "source": [
    "# Set the random seed for consistency\n",
    "np.random.seed(12)\n",
    "\n",
    "# Change the default colors\n",
    "#mpl.rcParams['axes.color_cycle'] = \n",
    "colors = brewer2mpl.get_map('Set2', 'qualitative', 7).mpl_colors\n",
    "\n",
    "#matplotlib.image.cmap = brewer2mpl.get_map('Set2', 'qualitative', 7).mpl_colormap\n",
    "\n",
    "# I happen to know that there are 7 default colors in matplotlib\n",
    "for i, color in enumerate(colors):\n",
    "    plt.scatter(np.random.randn(1000), np.random.randn(1000), \n",
    "    color=color)"
   ]
  },
  {
   "cell_type": "markdown",
   "metadata": {},
   "source": [
    "Or an overpowering black outline that speaks louder than the plot itself,"
   ]
  },
  {
   "cell_type": "code",
   "execution_count": null,
   "metadata": {
    "collapsed": false
   },
   "outputs": [],
   "source": [
    "# Set the random seed for consistency\n",
    "np.random.seed(12)\n",
    "\n",
    "# Change the default colors\n",
    "#mpl.rcParams['axes.color_cycle'] = \n",
    "colors = brewer2mpl.get_map('Set2', 'qualitative', 7).mpl_colors\n",
    "\n",
    "#matplotlib.image.cmap = brewer2mpl.get_map('Set2', 'qualitative', 7).mpl_colormap\n",
    "\n",
    "# I happen to know that there are 7 default colors in matplotlib\n",
    "for i, color in enumerate(colors):\n",
    "    plt.scatter(np.random.randn(1000), np.random.randn(1000), \n",
    "    color=color, edgecolors='k')"
   ]
  },
  {
   "cell_type": "markdown",
   "metadata": {},
   "source": [
    "A light grey, thin outline balances both visibility and aesthetics."
   ]
  },
  {
   "cell_type": "code",
   "execution_count": null,
   "metadata": {
    "collapsed": false
   },
   "outputs": [],
   "source": [
    "# Set the random seed for consistency\n",
    "np.random.seed(12)\n",
    "\n",
    "# Change the default colors\n",
    "#mpl.rcParams['axes.color_cycle'] = \n",
    "colors = brewer2mpl.get_map('Set2', 'qualitative', 7).mpl_colors\n",
    "\n",
    "#matplotlib.image.cmap = brewer2mpl.get_map('Set2', 'qualitative', 7).mpl_colormap\n",
    "\n",
    "# I happen to know that there are 7 default colors in matplotlib\n",
    "for i, color in enumerate(colors):\n",
    "    plt.scatter(np.random.randn(1000), np.random.randn(1000), \n",
    "    color=color,\n",
    "        edgecolors='grey',linewidths=0.1)"
   ]
  },
  {
   "cell_type": "markdown",
   "metadata": {},
   "source": [
    "Now to introduce 'Set2' as our default colors, we must change our `.matplotlibrc` file.\n",
    "\n",
    "Let's check where ours is."
   ]
  },
  {
   "cell_type": "code",
   "execution_count": null,
   "metadata": {
    "collapsed": false
   },
   "outputs": [],
   "source": [
    "# For some reason, this doesn't work with mpl\n",
    "import matplotlib\n",
    "matplotlib.matplotlib_fname()"
   ]
  },
  {
   "cell_type": "markdown",
   "metadata": {},
   "source": [
    "According to the [`matplotlib` customization](http://matplotlib.org/users/customizing.html) information, the order in which the `matplotlibrc` files are looked at:\n",
    "\n",
    "1. `matplotlibrc` in the current working directory, usually used for specific customizations that you do not want to apply elsewhere.\n",
    "2. `.matplotlib/matplotlibrc`, for the user’s default customizations. See `.matplotlib` directory location.\n",
    "3. `INSTALL/matplotlib/mpl-data/matplotlibrc`, where `INSTALL` is something like `/usr/lib/python2.5/site-packages` on Linux, and maybe `C:\\Python25\\Lib\\site-packages` on Windows. Every time you install matplotlib, this file will be overwritten, so if you want your customizations to be saved, please move this file to your `.matplotlib` directory.\n",
    "\n",
    "So that we can distinguish our custom `matplotlibrc` file, we'll make the `~/.matplotlib` directory and the `matplotlibrc` file within it. If you haven't created this directory and the file already, you will need to instantiate one. \n",
    "\n",
    "We will use a [sample `.matplotlibrc` file](http://matplotlib.org/_static/matplotlibrc) is available from the `matplotlib` website. "
   ]
  },
  {
   "cell_type": "code",
   "execution_count": null,
   "metadata": {
    "collapsed": false
   },
   "outputs": [],
   "source": [
    "%%bash\n",
    "mkdir ~/.matplotlib\n",
    "cd ~/.matplotlib\n",
    "wget http://matplotlib.org/_static/matplotlibrc \n",
    "cat ~/.matplotlib/matplotlibrc"
   ]
  },
  {
   "cell_type": "markdown",
   "metadata": {},
   "source": [
    "You'll need to edit the `~/.matplotlib/matplotlibrc` file in a text editor on your own machine to change the colors. However, we can't just use that vector we created earlier, because we must use HEX colors. We can use the `mpl.colors.rgb2hex` function to convert the 3-tuples to HEX strings."
   ]
  },
  {
   "cell_type": "code",
   "execution_count": null,
   "metadata": {
    "collapsed": false
   },
   "outputs": [],
   "source": [
    "for color in colors:\n",
    "    print mpl.colors.rgb2hex(color)"
   ]
  },
  {
   "cell_type": "markdown",
   "metadata": {},
   "source": [
    "Before I edit the file, let's see what the file looks like on the line we're going to edit, where it says `axes.color_cycle`,"
   ]
  },
  {
   "cell_type": "code",
   "execution_count": null,
   "metadata": {
    "collapsed": false
   },
   "outputs": [],
   "source": [
    "! cat ~/.matplotlib/matplotlibrc | grep axes.color_cycle"
   ]
  },
  {
   "cell_type": "markdown",
   "metadata": {},
   "source": [
    "I edited the `~/.matplotlib/matplotlibrc` file separately in a text editor."
   ]
  },
  {
   "cell_type": "code",
   "execution_count": null,
   "metadata": {
    "collapsed": false
   },
   "outputs": [],
   "source": [
    "! cat ~/.matplotlib/matplotlibrc | grep axes.color_cycle"
   ]
  },
  {
   "cell_type": "markdown",
   "metadata": {},
   "source": [
    "Now, in future instances (after we restart python and reload matplotlib) when we reset the color cycle to the defaults, we should get the correct 'Set2' colorbrewer colors. For now, we'll use the change we made to `mpl.rcParams` and to keep the colors the way they are.\n",
    "\n",
    "#### Heatmaps\n",
    "\n",
    "Let's use the same principles as before to improve this heatmap:"
   ]
  },
  {
   "cell_type": "code",
   "execution_count": null,
   "metadata": {
    "collapsed": false
   },
   "outputs": [],
   "source": [
    "from matplotlib.colors import LogNorm\n",
    "from pylab import *\n",
    "\n",
    "#normal distribution center at x=0 and y=5\n",
    "x = randn(100000)\n",
    "y = randn(100000)+5\n",
    "\n",
    "hist2d(x, y, bins=40, norm=LogNorm())\n",
    "colorbar()\n",
    "show()"
   ]
  },
  {
   "cell_type": "markdown",
   "metadata": {},
   "source": [
    "What's so bad about this? Well, it's using a rainbow of colors to indicate a single scale - increasing from zero. Let's use one of the _sequential_ colorbrewer palettes to improve this. I like green, so let's use that. We will tell `brewer2mpl` to give us a `matplotlib`-compatible colormap with the attribute `.mpl_colormap`, with the full call being,\n",
    "\n",
    "    brewer2mpl.get_map('Greens', 'sequential', 8).mpl_colormap"
   ]
  },
  {
   "cell_type": "code",
   "execution_count": null,
   "metadata": {
    "collapsed": false
   },
   "outputs": [],
   "source": [
    "from matplotlib.colors import LogNorm\n",
    "from pylab import *\n",
    "\n",
    "#normal distribution center at x=0 and y=5\n",
    "x = randn(100000)\n",
    "y = randn(100000)+5\n",
    "\n",
    "hist2d(x, y, bins=40, norm=LogNorm(), \n",
    "    cmap=brewer2mpl.get_map('Greens', 'sequential', 8).mpl_colormap)\n",
    "colorbar()\n",
    "show()"
   ]
  },
  {
   "cell_type": "markdown",
   "metadata": {},
   "source": [
    "This is *much* easier to interpret, since we only have to distinguish an increase in saturation of the hue green, rather than be forced to think about multiple different hues and how their colors represent an increase in value.\n",
    "\n",
    "Though if you just have increases from 0 to larger numbers, it may be even simpler (and better) to just use grey. Maybe not as pretty, but very easy to interpret."
   ]
  },
  {
   "cell_type": "code",
   "execution_count": null,
   "metadata": {
    "collapsed": false
   },
   "outputs": [],
   "source": [
    "from matplotlib.colors import LogNorm\n",
    "from pylab import *\n",
    "\n",
    "#normal distribution center at x=0 and y=5\n",
    "x = randn(100000)\n",
    "y = randn(100000)+5\n",
    "\n",
    "# norm=LogNorm() tells the function to use a logscale for the z-values\n",
    "hist2d(x, y, bins=40, norm=LogNorm(), \n",
    "    cmap=brewer2mpl.get_map('Greys', 'sequential', 8).mpl_colormap)\n",
    "colorbar()\n",
    "show()"
   ]
  },
  {
   "cell_type": "markdown",
   "metadata": {},
   "source": [
    "But what if your data has positive and negative values? Then you want to use a _divergent_ color map. I like blue-red (`RdBu` in reverse with these colormaps) because it has the natural interpretation of blue=cold, negative, and red=hot, positive.\n",
    "\n",
    "The below example is from [griddata_demo.py](http://matplotlib.org/examples/pylab_examples/griddata_demo.html) in the `matplotlib` gallery."
   ]
  },
  {
   "cell_type": "code",
   "execution_count": null,
   "metadata": {
    "collapsed": false
   },
   "outputs": [],
   "source": [
    "from numpy.random import uniform, seed\n",
    "from matplotlib.mlab import griddata\n",
    "import matplotlib.pyplot as plt\n",
    "import numpy as np\n",
    "# make up data.\n",
    "#npts = int(raw_input('enter # of random points to plot:'))\n",
    "seed(0)\n",
    "npts = 200\n",
    "x = uniform(-2,2,npts)\n",
    "y = uniform(-2,2,npts)\n",
    "z = x*np.exp(-x**2-y**2)\n",
    "# define grid.\n",
    "xi = np.linspace(-2.1,2.1,100)\n",
    "yi = np.linspace(-2.1,2.1,200)\n",
    "# grid the data.\n",
    "zi = griddata(x,y,z,xi,yi,interp='linear')\n",
    "# contour the gridded data, plotting dots at the nonuniform data points.\n",
    "CS = plt.contour(xi,yi,zi,15,linewidths=0.5,colors='k')\n",
    "CS = plt.contourf(xi,yi,zi,15,cmap=plt.cm.rainbow,\n",
    "                  vmax=abs(zi).max(), vmin=-abs(zi).max())\n",
    "plt.colorbar() # draw colorbar\n",
    "# plot data points.\n",
    "plt.scatter(x,y,marker='o',c='b',s=5,zorder=10)\n",
    "plt.xlim(-2,2)\n",
    "plt.ylim(-2,2)\n",
    "plt.title('griddata test (%d points)' % npts)"
   ]
  },
  {
   "cell_type": "markdown",
   "metadata": {},
   "source": [
    "We'll improve on this example with a more natural, divergent colormap."
   ]
  },
  {
   "cell_type": "code",
   "execution_count": null,
   "metadata": {
    "collapsed": false
   },
   "outputs": [],
   "source": [
    "from numpy.random import uniform, seed\n",
    "from matplotlib.mlab import griddata\n",
    "import matplotlib.pyplot as plt\n",
    "import numpy as np\n",
    "# make up data.\n",
    "#npts = int(raw_input('enter # of random points to plot:'))\n",
    "seed(0)\n",
    "npts = 200\n",
    "x = uniform(-2,2,npts)\n",
    "y = uniform(-2,2,npts)\n",
    "z = x*np.exp(-x**2-y**2)\n",
    "# define grid.\n",
    "xi = np.linspace(-2.1,2.1,100)\n",
    "yi = np.linspace(-2.1,2.1,200)\n",
    "# grid the data.\n",
    "zi = griddata(x,y,z,xi,yi,interp='linear')\n",
    "# contour the gridded data, plotting dots at the nonuniform data points.\n",
    "CS = plt.contour(xi,yi,zi,15,linewidths=0.5,colors='k')\n",
    "\n",
    "# ---- This is the line we changed ---- #\n",
    "CS = plt.contourf(xi,yi,zi,15,\n",
    "    cmap=brewer2mpl.get_map('RdBu', 'diverging', 8, reverse=True).mpl_colormap,\n",
    "                  vmax=abs(zi).max(), vmin=-abs(zi).max())\n",
    "\n",
    "plt.colorbar() # draw colorbar\n",
    "# plot data points.\n",
    "plt.scatter(x,y,marker='o',c='b',s=5,zorder=10)\n",
    "plt.xlim(-2,2)\n",
    "plt.ylim(-2,2)\n",
    "plt.title('griddata test (%d points)' % npts)\n"
   ]
  },
  {
   "cell_type": "markdown",
   "metadata": {},
   "source": [
    "We can do other colormaps just for fun, too. What does purple and green look like?"
   ]
  },
  {
   "cell_type": "code",
   "execution_count": null,
   "metadata": {
    "collapsed": false
   },
   "outputs": [],
   "source": [
    "from numpy.random import uniform, seed\n",
    "from matplotlib.mlab import griddata\n",
    "import matplotlib.pyplot as plt\n",
    "import numpy as np\n",
    "# make up data.\n",
    "#npts = int(raw_input('enter # of random points to plot:'))\n",
    "seed(0)\n",
    "npts = 200\n",
    "x = uniform(-2,2,npts)\n",
    "y = uniform(-2,2,npts)\n",
    "z = x*np.exp(-x**2-y**2)\n",
    "# define grid.\n",
    "xi = np.linspace(-2.1,2.1,100)\n",
    "yi = np.linspace(-2.1,2.1,200)\n",
    "# grid the data.\n",
    "zi = griddata(x,y,z,xi,yi,interp='linear')\n",
    "# contour the gridded data, plotting dots at the nonuniform data points.\n",
    "CS = plt.contour(xi,yi,zi,15,linewidths=0.5,colors='k')\n",
    "\n",
    "# ---- This is the line we changed ---- #\n",
    "CS = plt.contourf(xi,yi,zi,15,\n",
    "    cmap=brewer2mpl.get_map('PRGn', 'diverging', 8, reverse=True).mpl_colormap,\n",
    "                  vmax=abs(zi).max(), vmin=-abs(zi).max())\n",
    "\n",
    "plt.colorbar() # draw colorbar\n",
    "# plot data points.\n",
    "plt.scatter(x,y,marker='o',c='b',s=5,zorder=10)\n",
    "plt.xlim(-2,2)\n",
    "plt.ylim(-2,2)\n",
    "plt.title('griddata test (%d points)' % npts)"
   ]
  },
  {
   "cell_type": "markdown",
   "metadata": {},
   "source": [
    "### Default fonts\n",
    "\n",
    "The default font shipped with `matplotlib` is Bitsream Vera Sans, and it's not that pretty. I much prefer Helvetica, and I wrote a [tutorial](http://blog.olgabotvinnik.com/post/35807476900/how-to-set-helvetica-as-the-default-sans-serif-font-in) on how to set Helvetica as the default sans-serif font in `matplotlib`. It was originally wrote for Mac OSX users, but the concepts can be used on any system. The basic idea is that you need to either obtain a set of `Helvetica*.tff` files, or extract them from Mac OS X's `Helvetica.dfont` file. Unfortuantely, it's fairly involved, and I will leave the reader to follow the link and use the tutorial.\n",
    "\n",
    "Here are the before and after plots. Before:\n",
    "    \n",
    "![Before setting Helvetica as the default font](http://media.tumblr.com/tumblr_mdjt6nmDvg1rw6gvj.png)\n",
    "\n",
    "After:\n",
    "    \n",
    "![After setting Helvetica as the default font](http://media.tumblr.com/tumblr_mdjt64BRCu1rw6gvj.png)\n",
    "\n",
    "Much nicer! Unfortunately, I performed this change on my old computer and didn't have time to change the defaults on this one, so we will have to suffer through Bitstream Vera Sans together."
   ]
  },
  {
   "cell_type": "markdown",
   "metadata": {},
   "source": [
    "### Removing 'chartjunk'\n",
    "\n",
    "'Chartjunk' is a term coined by Edward Tufte to describe any uninformative aspects of a graph. You can also think about the 'data-ink ratio' with the question, _How is this patch of ink contributing to the interpretation of these data?_\n",
    "\n",
    "For example, this bar graph has an extraordinarily low 'data-ink ratio', and this [unfortunate example](http://matplotlib.org/examples/pylab_examples/demo_ribbon_box.html) is also from the `matplotlib` gallery."
   ]
  },
  {
   "cell_type": "code",
   "execution_count": null,
   "metadata": {
    "collapsed": false
   },
   "outputs": [],
   "source": [
    "import matplotlib.pyplot as plt\n",
    "import numpy as np\n",
    "from matplotlib.image import BboxImage\n",
    "\n",
    "from matplotlib._png import read_png\n",
    "import matplotlib.colors\n",
    "from matplotlib.cbook import get_sample_data\n",
    "\n",
    "class RibbonBox(object):\n",
    "\n",
    "    original_image = read_png(get_sample_data(\"Minduka_Present_Blue_Pack.png\",\n",
    "                                              asfileobj=False))\n",
    "    cut_location = 70\n",
    "    b_and_h = original_image[:,:,2]\n",
    "    color = original_image[:,:,2] - original_image[:,:,0]\n",
    "    alpha = original_image[:,:,3]\n",
    "    nx = original_image.shape[1]\n",
    "\n",
    "    def __init__(self, color):\n",
    "        rgb = matplotlib.colors.colorConverter.to_rgb(color)\n",
    "\n",
    "        im = np.empty(self.original_image.shape,\n",
    "                      self.original_image.dtype)\n",
    "\n",
    "\n",
    "        im[:,:,:3] = self.b_and_h[:,:,np.newaxis]\n",
    "        im[:,:,:3] -= self.color[:,:,np.newaxis]*(1.-np.array(rgb))\n",
    "        im[:,:,3] = self.alpha\n",
    "\n",
    "        self.im = im\n",
    "\n",
    "\n",
    "    def get_stretched_image(self, stretch_factor):\n",
    "        stretch_factor = max(stretch_factor, 1)\n",
    "        ny, nx, nch = self.im.shape\n",
    "        ny2 = int(ny*stretch_factor)\n",
    "\n",
    "        stretched_image = np.empty((ny2, nx, nch),\n",
    "                                   self.im.dtype)\n",
    "        cut = self.im[self.cut_location,:,:]\n",
    "        stretched_image[:,:,:] = cut\n",
    "        stretched_image[:self.cut_location,:,:] = \\\n",
    "                self.im[:self.cut_location,:,:]\n",
    "        stretched_image[-(ny-self.cut_location):,:,:] = \\\n",
    "                self.im[-(ny-self.cut_location):,:,:]\n",
    "\n",
    "        self._cached_im = stretched_image\n",
    "        return stretched_image\n",
    "\n",
    "\n",
    "\n",
    "class RibbonBoxImage(BboxImage):\n",
    "    zorder = 1\n",
    "\n",
    "    def __init__(self, bbox, color,\n",
    "                 cmap = None,\n",
    "                 norm = None,\n",
    "                 interpolation=None,\n",
    "                 origin=None,\n",
    "                 filternorm=1,\n",
    "                 filterrad=4.0,\n",
    "                 resample = False,\n",
    "                 **kwargs\n",
    "                 ):\n",
    "\n",
    "        BboxImage.__init__(self, bbox,\n",
    "                           cmap = cmap,\n",
    "                           norm = norm,\n",
    "                           interpolation=interpolation,\n",
    "                           origin=origin,\n",
    "                           filternorm=filternorm,\n",
    "                           filterrad=filterrad,\n",
    "                           resample = resample,\n",
    "                           **kwargs\n",
    "                           )\n",
    "\n",
    "        self._ribbonbox = RibbonBox(color)\n",
    "        self._cached_ny = None\n",
    "\n",
    "\n",
    "    def draw(self, renderer, *args, **kwargs):\n",
    "\n",
    "        bbox = self.get_window_extent(renderer)\n",
    "        stretch_factor = bbox.height / bbox.width\n",
    "\n",
    "        ny = int(stretch_factor*self._ribbonbox.nx)\n",
    "        if self._cached_ny != ny:\n",
    "            arr = self._ribbonbox.get_stretched_image(stretch_factor)\n",
    "            self.set_array(arr)\n",
    "            self._cached_ny = ny\n",
    "\n",
    "        BboxImage.draw(self, renderer, *args, **kwargs)\n",
    "\n",
    "\n",
    "if 1:\n",
    "    from matplotlib.transforms import Bbox, TransformedBbox\n",
    "    from matplotlib.ticker import ScalarFormatter\n",
    "\n",
    "    fig = plt.gcf()\n",
    "    fig.clf()\n",
    "    ax = plt.subplot(111)\n",
    "\n",
    "    years = np.arange(2004, 2009)\n",
    "    box_colors = [(0.8, 0.2, 0.2),\n",
    "                  (0.2, 0.8, 0.2),\n",
    "                  (0.2, 0.2, 0.8),\n",
    "                  (0.7, 0.5, 0.8),\n",
    "                  (0.3, 0.8, 0.7),\n",
    "                  ]\n",
    "    heights = np.random.random(years.shape) * 7000 + 3000\n",
    "\n",
    "    fmt = ScalarFormatter(useOffset=False)\n",
    "    ax.xaxis.set_major_formatter(fmt)\n",
    "\n",
    "    for year, h, bc in zip(years, heights, box_colors):\n",
    "        bbox0 = Bbox.from_extents(year-0.4, 0., year+0.4, h)\n",
    "        bbox = TransformedBbox(bbox0, ax.transData)\n",
    "        rb_patch = RibbonBoxImage(bbox, bc, interpolation=\"bicubic\")\n",
    "\n",
    "        ax.add_artist(rb_patch)\n",
    "\n",
    "        ax.annotate(r\"%d\" % (int(h/100.)*100),\n",
    "                    (year, h), va=\"bottom\", ha=\"center\")\n",
    "\n",
    "    patch_gradient = BboxImage(ax.bbox,\n",
    "                               interpolation=\"bicubic\",\n",
    "                               zorder=0.1,\n",
    "                               )\n",
    "    gradient = np.zeros((2, 2, 4), dtype=np.float)\n",
    "    gradient[:,:,:3] = [1, 1, 0.]\n",
    "    gradient[:,:,3] = [[0.1, 0.3],[0.3, 0.5]] # alpha channel\n",
    "    patch_gradient.set_array(gradient)\n",
    "    ax.add_artist(patch_gradient)\n",
    "\n",
    "\n",
    "    ax.set_xlim(years[0]-0.5, years[-1]+0.5)\n",
    "    ax.set_ylim(0, 10000)\n",
    "\n",
    "    fig.savefig('ribbon_box.png')\n",
    "    plt.show()"
   ]
  },
  {
   "cell_type": "markdown",
   "metadata": {},
   "source": [
    "Why is this so bad? We have these superfluous present boxes to represent five numbers. However, one thing that this figure does correctly is put the value the bar graph represents just above the bar. First, let's get rid of this silly and uninformative gradient by commenting it out."
   ]
  },
  {
   "cell_type": "code",
   "execution_count": null,
   "metadata": {
    "collapsed": false
   },
   "outputs": [],
   "source": [
    "import matplotlib.pyplot as plt\n",
    "import numpy as np\n",
    "from matplotlib.image import BboxImage\n",
    "\n",
    "from matplotlib._png import read_png\n",
    "import matplotlib.colors\n",
    "from matplotlib.cbook import get_sample_data\n",
    "\n",
    "class RibbonBox(object):\n",
    "\n",
    "    original_image = read_png(get_sample_data(\"Minduka_Present_Blue_Pack.png\",\n",
    "                                              asfileobj=False))\n",
    "    cut_location = 70\n",
    "    b_and_h = original_image[:,:,2]\n",
    "    color = original_image[:,:,2] - original_image[:,:,0]\n",
    "    alpha = original_image[:,:,3]\n",
    "    nx = original_image.shape[1]\n",
    "\n",
    "    def __init__(self, color):\n",
    "        rgb = matplotlib.colors.colorConverter.to_rgb(color)\n",
    "\n",
    "        im = np.empty(self.original_image.shape,\n",
    "                      self.original_image.dtype)\n",
    "\n",
    "\n",
    "        im[:,:,:3] = self.b_and_h[:,:,np.newaxis]\n",
    "        im[:,:,:3] -= self.color[:,:,np.newaxis]*(1.-np.array(rgb))\n",
    "        im[:,:,3] = self.alpha\n",
    "\n",
    "        self.im = im\n",
    "\n",
    "\n",
    "    def get_stretched_image(self, stretch_factor):\n",
    "        stretch_factor = max(stretch_factor, 1)\n",
    "        ny, nx, nch = self.im.shape\n",
    "        ny2 = int(ny*stretch_factor)\n",
    "\n",
    "        stretched_image = np.empty((ny2, nx, nch),\n",
    "                                   self.im.dtype)\n",
    "        cut = self.im[self.cut_location,:,:]\n",
    "        stretched_image[:,:,:] = cut\n",
    "        stretched_image[:self.cut_location,:,:] = \\\n",
    "                self.im[:self.cut_location,:,:]\n",
    "        stretched_image[-(ny-self.cut_location):,:,:] = \\\n",
    "                self.im[-(ny-self.cut_location):,:,:]\n",
    "\n",
    "        self._cached_im = stretched_image\n",
    "        return stretched_image\n",
    "\n",
    "\n",
    "\n",
    "class RibbonBoxImage(BboxImage):\n",
    "    zorder = 1\n",
    "\n",
    "    def __init__(self, bbox, color,\n",
    "                 cmap = None,\n",
    "                 norm = None,\n",
    "                 interpolation=None,\n",
    "                 origin=None,\n",
    "                 filternorm=1,\n",
    "                 filterrad=4.0,\n",
    "                 resample = False,\n",
    "                 **kwargs\n",
    "                 ):\n",
    "\n",
    "        BboxImage.__init__(self, bbox,\n",
    "                           cmap = cmap,\n",
    "                           norm = norm,\n",
    "                           interpolation=interpolation,\n",
    "                           origin=origin,\n",
    "                           filternorm=filternorm,\n",
    "                           filterrad=filterrad,\n",
    "                           resample = resample,\n",
    "                           **kwargs\n",
    "                           )\n",
    "\n",
    "        self._ribbonbox = RibbonBox(color)\n",
    "        self._cached_ny = None\n",
    "\n",
    "\n",
    "    def draw(self, renderer, *args, **kwargs):\n",
    "\n",
    "        bbox = self.get_window_extent(renderer)\n",
    "        stretch_factor = bbox.height / bbox.width\n",
    "\n",
    "        ny = int(stretch_factor*self._ribbonbox.nx)\n",
    "        if self._cached_ny != ny:\n",
    "            arr = self._ribbonbox.get_stretched_image(stretch_factor)\n",
    "            self.set_array(arr)\n",
    "            self._cached_ny = ny\n",
    "\n",
    "        BboxImage.draw(self, renderer, *args, **kwargs)\n",
    "\n",
    "\n",
    "if 1:\n",
    "    from matplotlib.transforms import Bbox, TransformedBbox\n",
    "    from matplotlib.ticker import ScalarFormatter\n",
    "\n",
    "    fig = plt.gcf()\n",
    "    fig.clf()\n",
    "    ax = plt.subplot(111)\n",
    "\n",
    "    years = np.arange(2004, 2009)\n",
    "    box_colors = [(0.8, 0.2, 0.2),\n",
    "                  (0.2, 0.8, 0.2),\n",
    "                  (0.2, 0.2, 0.8),\n",
    "                  (0.7, 0.5, 0.8),\n",
    "                  (0.3, 0.8, 0.7),\n",
    "                  ]\n",
    "    heights = np.random.random(years.shape) * 7000 + 3000\n",
    "\n",
    "    fmt = ScalarFormatter(useOffset=False)\n",
    "    ax.xaxis.set_major_formatter(fmt)\n",
    "\n",
    "    for year, h, bc in zip(years, heights, box_colors):\n",
    "        bbox0 = Bbox.from_extents(year-0.4, 0., year+0.4, h)\n",
    "        bbox = TransformedBbox(bbox0, ax.transData)\n",
    "        rb_patch = RibbonBoxImage(bbox, bc, interpolation=\"bicubic\")\n",
    "\n",
    "        ax.add_artist(rb_patch)\n",
    "\n",
    "        ax.annotate(r\"%d\" % (int(h/100.)*100),\n",
    "                    (year, h), va=\"bottom\", ha=\"center\")\n",
    "\n",
    "#    patch_gradient = BboxImage(ax.bbox,\n",
    "#                               interpolation=\"bicubic\",\n",
    "#                               zorder=0.1,\n",
    "#                               )\n",
    "#    gradient = np.zeros((2, 2, 4), dtype=np.float)\n",
    "#    gradient[:,:,:3] = [1, 1, 0.]\n",
    "#    gradient[:,:,3] = [[0.1, 0.3],[0.3, 0.5]] # alpha channel\n",
    "#    patch_gradient.set_array(gradient)\n",
    "#    ax.add_artist(patch_gradient)\n",
    "\n",
    "\n",
    "    ax.set_xlim(years[0]-0.5, years[-1]+0.5)\n",
    "    ax.set_ylim(0, 10000)\n",
    "\n",
    "    fig.savefig('ribbon_box.png')\n",
    "    plt.show()"
   ]
  },
  {
   "cell_type": "markdown",
   "metadata": {},
   "source": [
    "That was easy, we just removed the call to the gradient. Next, let's get rid of these boxes and replace them with simple bars. I'm going to cut out the gradient and the box code, and add the line,\n",
    "\n",
    "     ax.bar(year, h, color=bc)"
   ]
  },
  {
   "cell_type": "code",
   "execution_count": null,
   "metadata": {
    "collapsed": false
   },
   "outputs": [],
   "source": [
    "import matplotlib.pyplot as plt\n",
    "import numpy as np\n",
    "from matplotlib.image import BboxImage\n",
    "\n",
    "from matplotlib._png import read_png\n",
    "import matplotlib.colors\n",
    "from matplotlib.cbook import get_sample_data\n",
    "\n",
    "if 1:\n",
    "    from matplotlib.transforms import Bbox, TransformedBbox\n",
    "    from matplotlib.ticker import ScalarFormatter\n",
    "\n",
    "    fig = plt.gcf()\n",
    "    fig.clf()\n",
    "    ax = plt.subplot(111)\n",
    "\n",
    "    years = np.arange(2004, 2009)\n",
    "    box_colors = [(0.8, 0.2, 0.2),\n",
    "                  (0.2, 0.8, 0.2),\n",
    "                  (0.2, 0.2, 0.8),\n",
    "                  (0.7, 0.5, 0.8),\n",
    "                  (0.3, 0.8, 0.7),\n",
    "                  ]\n",
    "    heights = np.random.random(years.shape) * 7000 + 3000\n",
    "\n",
    "    fmt = ScalarFormatter(useOffset=False)\n",
    "    ax.xaxis.set_major_formatter(fmt)\n",
    "\n",
    "    for year, h, bc in zip(years, heights, box_colors):\n",
    "#        bbox0 = Bbox.from_extents(year-0.4, 0., year+0.4, h)\n",
    "#       bbox = TransformedBbox(bbox0, ax.transData)\n",
    "#        rb_patch = BboxImage(bbox, interpolation='bicubic')\n",
    "#        rb_ptch = RibbonBoxImage(bbox, bc, interpolation=\"bicubic\")\n",
    "\n",
    "#        ax.add_artist(rb_patch)\n",
    "#        ax.add_artist(bbox)\n",
    "\n",
    "        # --- this is the line we changed --- #\n",
    "        ax.bar(year, h, color=bc)\n",
    "\n",
    "        ax.annotate(r\"%d\" % (int(h/100.)*100),\n",
    "                    (year, h), va=\"bottom\", ha=\"center\")\n",
    "\n",
    "\n",
    "    ax.set_xlim(years[0]-0.5, years[-1]+0.5)\n",
    "    ax.set_ylim(0, 10000)\n",
    "    \n",
    "    fig.savefig('ribbon_box_no_ribbons.png')\n",
    "    plt.show()"
   ]
  },
  {
   "cell_type": "markdown",
   "metadata": {},
   "source": [
    "But this is offset to the right. Let's move it to the left using `year-0.04`as the previous graph. Also lets change from these hideous colors to 'Set1', another qualitative colorbrewer scheme."
   ]
  },
  {
   "cell_type": "code",
   "execution_count": null,
   "metadata": {
    "collapsed": false
   },
   "outputs": [],
   "source": [
    "import matplotlib.pyplot as plt\n",
    "import numpy as np\n",
    "from matplotlib.image import BboxImage\n",
    "\n",
    "from matplotlib._png import read_png\n",
    "import matplotlib.colors\n",
    "from matplotlib.cbook import get_sample_data\n",
    "\n",
    "if 1:\n",
    "    from matplotlib.transforms import Bbox, TransformedBbox\n",
    "    from matplotlib.ticker import ScalarFormatter\n",
    "\n",
    "    fig = plt.gcf()\n",
    "    fig.clf()\n",
    "    ax = plt.subplot(111)\n",
    "\n",
    "    years = np.arange(2004, 2009)\n",
    "    box_colors = brewer2mpl.get_map('Set1', 'qualitative', 5).mpl_colors\n",
    "#    box_colors = [(0.8, 0.2, 0.2),\n",
    "#                  (0.2, 0.8, 0.2),\n",
    "#                  (0.2, 0.2, 0.8),\n",
    "#                  (0.7, 0.5, 0.8),\n",
    "#                  (0.3, 0.8, 0.7),\n",
    "#                  ]\n",
    "    heights = np.random.random(years.shape) * 7000 + 3000\n",
    "\n",
    "    fmt = ScalarFormatter(useOffset=False)\n",
    "    ax.xaxis.set_major_formatter(fmt)\n",
    "\n",
    "    for year, h, bc in zip(years, heights, box_colors):\n",
    "        # --- this is the line we changed --- #\n",
    "        ax.bar(year-0.4, h, color =bc)\n",
    "\n",
    "        ax.annotate(r\"%d\" % (int(h/100.)*100),\n",
    "                    (year, h), va=\"bottom\", ha=\"center\")\n",
    "\n",
    "\n",
    "    ax.set_xlim(years[0]-0.5, years[-1]+0.5)\n",
    "    ax.set_ylim(0, 10000)\n",
    "    \n",
    "    fig.savefig('ribbon_box_no_ribbons.png')\n",
    "    plt.show()"
   ]
  },
  {
   "cell_type": "markdown",
   "metadata": {},
   "source": [
    "Let's move the number up a little."
   ]
  },
  {
   "cell_type": "code",
   "execution_count": null,
   "metadata": {
    "collapsed": false
   },
   "outputs": [],
   "source": [
    "import matplotlib.pyplot as plt\n",
    "import numpy as np\n",
    "from matplotlib.image import BboxImage\n",
    "\n",
    "from matplotlib._png import read_png\n",
    "import matplotlib.colors\n",
    "from matplotlib.cbook import get_sample_data\n",
    "\n",
    "if 1:\n",
    "    from matplotlib.transforms import Bbox, TransformedBbox\n",
    "    from matplotlib.ticker import ScalarFormatter\n",
    "\n",
    "    fig = plt.gcf()\n",
    "    fig.clf()\n",
    "    ax = plt.subplot(111)\n",
    "\n",
    "    years = np.arange(2004, 2009)\n",
    "    box_colors = brewer2mpl.get_map('Set1', 'qualitative', 5).mpl_colors\n",
    "#    box_colors = [(0.8, 0.2, 0.2),\n",
    "#                  (0.2, 0.8, 0.2),\n",
    "#                  (0.2, 0.2, 0.8),\n",
    "#                  (0.7, 0.5, 0.8),\n",
    "#                  (0.3, 0.8, 0.7),\n",
    "#                  ]\n",
    "    heights = np.random.random(years.shape) * 7000 + 3000\n",
    "\n",
    "    fmt = ScalarFormatter(useOffset=False)\n",
    "    ax.xaxis.set_major_formatter(fmt)\n",
    "\n",
    "    for year, h, bc in zip(years, heights, box_colors):\n",
    "        # --- this is the line we changed --- #\n",
    "        ax.bar(year-0.4, h, color =bc)\n",
    "\n",
    "        ax.annotate(r\"%d\" % (int(h/100.)*100),\n",
    "                    (year, h), va=\"bottom\", ha=\"center\")\n",
    "\n",
    "\n",
    "    ax.set_xlim(years[0]-0.5, years[-1]+0.5)\n",
    "    ax.set_ylim(0, 10000)\n",
    "    \n",
    "    fig.savefig('ribbon_box_no_ribbons.png')\n",
    "    plt.show()"
   ]
  },
  {
   "cell_type": "code",
   "execution_count": null,
   "metadata": {
    "collapsed": false
   },
   "outputs": [],
   "source": [
    "import matplotlib.pyplot as plt\n",
    "import numpy as np\n",
    "from matplotlib.image import BboxImage\n",
    "\n",
    "from matplotlib._png import read_png\n",
    "import matplotlib.colors\n",
    "from matplotlib.cbook import get_sample_data\n",
    "\n",
    "if 1:\n",
    "    from matplotlib.transforms import Bbox, TransformedBbox\n",
    "    from matplotlib.ticker import ScalarFormatter\n",
    "\n",
    "    fig = plt.gcf()\n",
    "    fig.clf()\n",
    "    ax = plt.subplot(111)\n",
    "\n",
    "    years = np.arange(2004, 2009)\n",
    "    box_colors = brewer2mpl.get_map('Set1', 'qualitative', 5).mpl_colors\n",
    "#    box_colors = [(0.8, 0.2, 0.2),\n",
    "#                  (0.2, 0.8, 0.2),\n",
    "#                  (0.2, 0.2, 0.8),\n",
    "#                  (0.7, 0.5, 0.8),\n",
    "#                  (0.3, 0.8, 0.7),\n",
    "#                  ]\n",
    "    heights = np.random.random(years.shape) * 7000 + 3000\n",
    "\n",
    "    fmt = ScalarFormatter(useOffset=False)\n",
    "    ax.xaxis.set_major_formatter(fmt)\n",
    "\n",
    "    for year, h, bc in zip(years, heights, box_colors):\n",
    "        # --- this is the line we changed --- #\n",
    "        ax.bar(year-0.4, h, color =bc)\n",
    "\n",
    "        ax.annotate(r\"%d\" % (int(h/100.)*100),\n",
    "                    (year, h+100), va=\"bottom\", ha=\"center\")\n",
    "\n",
    "\n",
    "    ax.set_xlim(years[0]-0.5, years[-1]+0.5)\n",
    "    ax.set_ylim(0, 10000)\n",
    "    \n",
    "    fig.savefig('ribbon_box_no_ribbons.png')\n",
    "    plt.show()"
   ]
  },
  {
   "cell_type": "markdown",
   "metadata": {},
   "source": [
    "Let's think some more about this data-ink ratio. What do the right and top axes really tell us? They just make a box around the plot. It looks much cleaner without them. We'll remove them with,\n",
    "\n",
    "\tax.spines['top'].set_visible(False)\n",
    "\tax.spines['right'].set_visible(False)"
   ]
  },
  {
   "cell_type": "code",
   "execution_count": null,
   "metadata": {
    "collapsed": false
   },
   "outputs": [],
   "source": [
    "import matplotlib.pyplot as plt\n",
    "import numpy as np\n",
    "from matplotlib.image import BboxImage\n",
    "\n",
    "from matplotlib._png import read_png\n",
    "import matplotlib.colors\n",
    "from matplotlib.cbook import get_sample_data\n",
    "\n",
    "if 1:\n",
    "    from matplotlib.transforms import Bbox, TransformedBbox\n",
    "    from matplotlib.ticker import ScalarFormatter\n",
    "\n",
    "    fig = plt.gcf()\n",
    "    fig.clf()\n",
    "    ax = plt.subplot(111)\n",
    "\n",
    "    years = np.arange(2004, 2009)\n",
    "    \n",
    "    # --- changed this line --- #\n",
    "    box_colors = brewer2mpl.get_map('Set1', 'qualitative', 5).mpl_colors\n",
    "    \n",
    "    heights = np.random.random(years.shape) * 7000 + 3000\n",
    "\n",
    "    fmt = ScalarFormatter(useOffset=False)\n",
    "    ax.xaxis.set_major_formatter(fmt)\n",
    "\n",
    "    for year, h, bc in zip(years, heights, box_colors):\n",
    "        # --- this is the line we changed --- #\n",
    "        ax.bar(year-0.4, h, color =bc)\n",
    "\n",
    "        ax.annotate(r\"%d\" % (int(h/100.)*100),\n",
    "                    (year, h+100), va=\"bottom\", ha=\"center\")\n",
    "\n",
    "\n",
    "    ax.set_xlim(years[0]-0.5, years[-1]+0.5)\n",
    "    ax.set_ylim(0, 10000)\n",
    "    \n",
    "    # --- Added this line --- #\n",
    "    ax.spines['top'].set_visible(False)\n",
    "    ax.spines['right'].set_visible(False)\n",
    "    \n",
    "    fig.savefig('ribbon_box_no_ribbons.png')\n",
    "    plt.show()"
   ]
  },
  {
   "cell_type": "markdown",
   "metadata": {},
   "source": [
    "Well that removed the axis, but the ticks remain. We'll remove them with \n",
    "\n",
    "    ax.yaxis.set_ticks_position('left')\n",
    "    ax.xaxis.set_ticks_position('bottom')"
   ]
  },
  {
   "cell_type": "code",
   "execution_count": null,
   "metadata": {
    "collapsed": false
   },
   "outputs": [],
   "source": [
    "import matplotlib.pyplot as plt\n",
    "import numpy as np\n",
    "from matplotlib.image import BboxImage\n",
    "\n",
    "from matplotlib._png import read_png\n",
    "import matplotlib.colors\n",
    "from matplotlib.cbook import get_sample_data\n",
    "\n",
    "if 1:\n",
    "    from matplotlib.transforms import Bbox, TransformedBbox\n",
    "    from matplotlib.ticker import ScalarFormatter\n",
    "\n",
    "    fig = plt.gcf()\n",
    "    fig.clf()\n",
    "    ax = plt.subplot(111)\n",
    "\n",
    "    years = np.arange(2004, 2009)\n",
    "    \n",
    "    # --- changed this line --- #\n",
    "    box_colors = brewer2mpl.get_map('Set1', 'qualitative', 5).mpl_colors\n",
    "    \n",
    "    heights = np.random.random(years.shape) * 7000 + 3000\n",
    "\n",
    "    fmt = ScalarFormatter(useOffset=False)\n",
    "    ax.xaxis.set_major_formatter(fmt)\n",
    "\n",
    "    for year, h, bc in zip(years, heights, box_colors):\n",
    "        # --- this is the line we changed --- #\n",
    "        ax.bar(year-0.4, h, color =bc)\n",
    "\n",
    "        ax.annotate(r\"%d\" % (int(h/100.)*100),\n",
    "                    (year, h+100), va=\"bottom\", ha=\"center\")\n",
    "\n",
    "\n",
    "    ax.set_xlim(years[0]-0.5, years[-1]+0.5)\n",
    "    ax.set_ylim(0, 10000)\n",
    "    \n",
    "    # --- Added this line --- #\n",
    "    ax.spines['top'].set_visible(False)\n",
    "    ax.spines['right'].set_visible(False)\n",
    "    \n",
    "    # --- Added this line --- #\n",
    "    ax.yaxis.set_ticks_position('left')\n",
    "    ax.xaxis.set_ticks_position('bottom')\n",
    "    \n",
    "    fig.savefig('ribbon_box_no_ribbons.png')\n",
    "    plt.show()"
   ]
  },
  {
   "cell_type": "markdown",
   "metadata": {},
   "source": [
    "Even better, let's remove the left axis and replace it with a white overlapping grid. This way, the reader doesn't have to move their eye back and forth to the left axis and back to see what value corresponds to what height. We will aslo remove the ticks on the x-axis, since the year name labels the position, and we don't need a tick there.\n",
    "\n",
    "    ax.spines['left'].set_visible(False)\n",
    "    ...\n",
    "    ax.xaxis.set_ticks_position('none')\n",
    "    ax.yaxis.set_ticks_position('none')\n",
    "    ...\n",
    "    ax.grid(axis = 'y', color ='white', linestyle='-')"
   ]
  },
  {
   "cell_type": "code",
   "execution_count": null,
   "metadata": {
    "collapsed": false
   },
   "outputs": [],
   "source": [
    "import matplotlib.pyplot as plt\n",
    "import numpy as np\n",
    "from matplotlib.image import BboxImage\n",
    "\n",
    "from matplotlib._png import read_png\n",
    "import matplotlib.colors\n",
    "from matplotlib.cbook import get_sample_data\n",
    "\n",
    "if 1:\n",
    "    from matplotlib.transforms import Bbox, TransformedBbox\n",
    "    from matplotlib.ticker import ScalarFormatter\n",
    "\n",
    "    fig = plt.gcf()\n",
    "    fig.clf()\n",
    "    ax = plt.subplot(111)\n",
    "\n",
    "    years = np.arange(2004, 2009)\n",
    "    \n",
    "    # --- changed this line --- #\n",
    "    box_colors = brewer2mpl.get_map('Set1', 'qualitative', 5).mpl_colors\n",
    "    \n",
    "    heights = np.random.random(years.shape) * 7000 + 3000\n",
    "\n",
    "    fmt = ScalarFormatter(useOffset=False)\n",
    "    ax.xaxis.set_major_formatter(fmt)\n",
    "\n",
    "    for year, h, bc in zip(years, heights, box_colors):\n",
    "        # --- this is the line we changed --- #\n",
    "        ax.bar(year-0.4, h, color =bc)\n",
    "\n",
    "        ax.annotate(r\"%d\" % (int(h/100.)*100),\n",
    "                    (year, h+100), va=\"bottom\", ha=\"center\")\n",
    "\n",
    "\n",
    "    ax.set_xlim(years[0]-0.5, years[-1]+0.5)\n",
    "    ax.set_ylim(0, 10000)\n",
    "    \n",
    "    # --- Added this line --- #\n",
    "    ax.spines['top'].set_visible(False)\n",
    "    ax.spines['right'].set_visible(False)\n",
    "    ax.spines['left'].set_visible(False)\n",
    "    \n",
    "    # --- Added this line --- #\n",
    "    ax.yaxis.set_ticks_position('none')\n",
    "    ax.xaxis.set_ticks_position('none')\n",
    "    \n",
    "    ax.grid(axis = 'y', color ='white', linestyle='-')\n",
    "    \n",
    "    fig.savefig('ribbon_box_no_ribbons.png')\n",
    "    plt.show()"
   ]
  },
  {
   "cell_type": "markdown",
   "metadata": {},
   "source": [
    "It would look even nicer without the black lines around the bars. We will adjust the `ax.bar` line to set `linewidth=0`,\n",
    "\n",
    "    ax.bar(year-0.4, h, color=bc, linewidth=0)"
   ]
  },
  {
   "cell_type": "code",
   "execution_count": null,
   "metadata": {
    "collapsed": false
   },
   "outputs": [],
   "source": [
    "import matplotlib.pyplot as plt\n",
    "import numpy as np\n",
    "from matplotlib.image import BboxImage\n",
    "\n",
    "from matplotlib._png import read_png\n",
    "import matplotlib.colors\n",
    "from matplotlib.cbook import get_sample_data\n",
    "\n",
    "if 1:\n",
    "    from matplotlib.transforms import Bbox, TransformedBbox\n",
    "    from matplotlib.ticker import ScalarFormatter\n",
    "\n",
    "    fig = plt.gcf()\n",
    "    fig.clf()\n",
    "    ax = plt.subplot(111)\n",
    "\n",
    "    years = np.arange(2004, 2009)\n",
    "    \n",
    "    # --- changed this line --- #\n",
    "    box_colors = brewer2mpl.get_map('Set1', 'qualitative', 5).mpl_colors\n",
    "    \n",
    "    heights = np.random.random(years.shape) * 7000 + 3000\n",
    "\n",
    "    fmt = ScalarFormatter(useOffset=False)\n",
    "    ax.xaxis.set_major_formatter(fmt)\n",
    "\n",
    "    for year, h, bc in zip(years, heights, box_colors):\n",
    "        # --- this is the line we changed --- #\n",
    "        ax.bar(year-0.4, h, color=bc, linewidth=0)\n",
    "\n",
    "        ax.annotate(r\"%d\" % (int(h/100.)*100),\n",
    "                    (year, h+100), va=\"bottom\", ha=\"center\")\n",
    "\n",
    "\n",
    "    ax.set_xlim(years[0]-0.5, years[-1]+0.5)\n",
    "    ax.set_ylim(0, 10000)\n",
    "    \n",
    "    # --- Added this line --- #\n",
    "    ax.spines['top'].set_visible(False)\n",
    "    ax.spines['right'].set_visible(False)\n",
    "    ax.spines['left'].set_visible(False)\n",
    "    \n",
    "    # --- Added this line --- #\n",
    "    ax.yaxis.set_ticks_position('none')\n",
    "    ax.xaxis.set_ticks_position('none')\n",
    "    \n",
    "    ax.grid(axis = 'y', color ='white', linestyle='-')\n",
    "    \n",
    "    fig.savefig('ribbon_box_no_ribbons.png')\n",
    "    plt.show()"
   ]
  },
  {
   "cell_type": "markdown",
   "metadata": {},
   "source": [
    "So now we have a very nice looking bar graph! All we did was keep 'erasing' chart items that weren't informative. You can use these concepts in your own graphs.\n",
    "\n",
    "So far we've talked about things you can do with the existing `matplotlib` package. Now we'll talk about packages that implement other design principles."
   ]
  },
  {
   "cell_type": "markdown",
   "metadata": {},
   "source": [
    "### Sparklines\n",
    "\n",
    "Recently Tufte has introduced the idea of 'Sparklines', or a 'data-word', is an intense, word-sized graphic. The following examples use [sparkplot](http://agile.unisonis.com/proj/sparkplot/sparkplot.py) and its introductory [blog post](http://agiletesting.blogspot.com/2005/04/sparkplot-creating-sparklines-with.html). For example, if you visualize the wins (red, up) and losses (blue, down) by the Lakers' 2002 season where they won the NBA championships, it is easy to see streaks of wins and losses, ![Lakers' 2002 game series](http://agile.unisonis.com/proj/sparkplot/lakers2002.png). It is also easy to compare to their 2005 performance, where they did not win the championship, ![Lakers' 2005 game series](http://agile.unisonis.com/proj/sparkplot/lakers2005.png). This is a very nice way to visualize binary data.\n",
    "      \n",
    "                                                                                                                                                                                                                                                                                                                                                                                                                                                                                                                                                                                                                                                                          \n",
    "                                                                                                                                                                                                                                                                                                                                                                                                                                                                                                                                                                                                                                                                                                              "
   ]
  },
  {
   "cell_type": "markdown",
   "metadata": {},
   "source": [
    "Additionally, sparklines can be used to visualize a series of information. For example, this shows the number of messages sent on the message list `comp.lang.py` in 1994, ![1994](http://agile.unisonis.com/proj/sparkplot/clpy_1994.png), and you see that the minimum is zero and the maximum is 518. Compare this to the messages sent in 2004, ![2004](http://agile.unisonis.com/proj/sparkplot/clpy_2004.png).\n",
    "\n",
    "But you may not just be interested in the min and max, but maybe in deviations from the norm. The southern oscillation is a good indicator of El Nino, and values less than -1 usually define an El Nino weather pattern, ![](http://agile.unisonis.com/proj/sparkplot/southern_oscillation.png) [data: Tahiti, 1955-1992]\n",
    "\n",
    "If you have some series data or binary data you'd like to incorporate into a sentence, Sparklines are great."
   ]
  },
  {
   "cell_type": "markdown",
   "metadata": {},
   "source": [
    "## iPython Notebook\n",
    "\n",
    "To change your default fonts in iPython notebook, you will need to create a custom profile and create a custom CSS file, which is described thorougly [in this tutorial](http://nbviewer.ipython.org/urls/raw.github.com/Carreau/posts/master/Blog1.ipynb). If you like what you see in my iPython notebook, which includes [`Consolas`](http://en.wikipedia.org/wiki/Consolas) as the default code font, approximately 80-character column width, and centered cells, you may use my `custom.css` file:"
   ]
  },
  {
   "cell_type": "code",
   "execution_count": null,
   "metadata": {
    "collapsed": false
   },
   "outputs": [],
   "source": [
    "# Find where my iPython directory is\n",
    "! ipython locate"
   ]
  },
  {
   "cell_type": "code",
   "execution_count": null,
   "metadata": {
    "collapsed": false
   },
   "outputs": [],
   "source": [
    "# Show the contents of my custom.css file, which I created using the above tutorial\n",
    "! cat /Users/olga/.ipython/profile_customcss/static/css/custom.css"
   ]
  },
  {
   "cell_type": "markdown",
   "metadata": {},
   "source": [
    "## Bokeh\n",
    "\n",
    "[Bokeh](https://github.com/continuumio/bokeh) (photography term for the aesthetic quality of a blurred background which focuses attention on the foreground, definition from the Bokeh Github readme) is a new package (started in March 2012, compared to `matplotlib` which started in 2002) which aims to have beautiful, interactive visualizations within the iPython framework. It uses the powerful [Data Driven Documents (d3)](http://d3js.org/) javascript library to render lovely vector-based graphics using the HTML5 canvas in the browser.\n",
    "\n",
    "I downloaded the package but couldn't get the examples to work, so I will show you the example notebook they provided. It will definitely be a package to watch! The underlying data structures in Bokeh are [`pandas`](http://pandas.pydata.org/) `DataFrame`s, so you can expect further integration with it and iPython in the future."
   ]
  },
  {
   "cell_type": "code",
   "execution_count": null,
   "metadata": {
    "collapsed": false
   },
   "outputs": [],
   "source": [
    "from bokeh.mpl import PlotClient\n",
    "p = PlotClient(username='defaultuser', serverloc=\"http://portcon:5006\",userapikey=\"nokey\")\n",
    "p.use_doc('example')\n",
    "p.notebooksources()\n"
   ]
  },
  {
   "cell_type": "code",
   "execution_count": null,
   "metadata": {
    "collapsed": false
   },
   "outputs": [],
   "source": [
    "x = np.arange(100) / 6.0\n",
    "y = np.sin(x)\n",
    "z = np.cos(x)\n",
    "data_source = p.make_source(idx=range(100), x=x, y=y, z=z)\n",
    "p.hold('off')\n",
    "plot1 = p.plot('x', 'y', 'orange', data_source=data_source)\n",
    "plot2 = p.plot('x', 'z', 'blue', data_source=data_source)\n",
    "grid = p.grid([[plot1,plot2]])\n",
    "grid\n",
    "\n"
   ]
  },
  {
   "cell_type": "markdown",
   "metadata": {},
   "source": [
    "These look quite nice! And they're scrollable! Definitely something to watch.\n",
    "\n",
    "There is a competing [in-browser version of matplotlib](http://mdboom.github.io/blog/2012/10/11/matplotlib-in-the-browser-its-coming/), which is currently in the development version of matplotlib, but I haven't explored it.\n",
    "\n",
    "## Conclusion\n",
    "\n",
    "Design principles are important for communicating your data. The actionable items from this talk are:\n",
    "\n",
    "* Colorbrewer: Someone has already figured out what colors are good to use, so use them.\n",
    "* 'Data-pixel ratio': 'Erase' chart items until the next thing you erase would remove data."
   ]
  }
 ],
 "metadata": {
  "kernelspec": {
   "display_name": "Python 2",
   "language": "python",
   "name": "python2"
  },
  "language_info": {
   "codemirror_mode": {
    "name": "ipython",
    "version": 2
   },
   "file_extension": ".py",
   "mimetype": "text/x-python",
   "name": "python",
   "nbconvert_exporter": "python",
   "pygments_lexer": "ipython2",
   "version": "2.7.6"
  }
 },
 "nbformat": 4,
 "nbformat_minor": 0
}
