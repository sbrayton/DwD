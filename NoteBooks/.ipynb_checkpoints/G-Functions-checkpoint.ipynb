{
 "cells": [
  {
   "cell_type": "markdown",
   "metadata": {},
   "source": [
    "### Built-in functions\n",
    "\n",
    "Python provides a set of functions already built-in. You are already very familiar with one of them:"
   ]
  },
  {
   "cell_type": "code",
   "execution_count": 1,
   "metadata": {},
   "outputs": [
    {
     "name": "stdout",
     "output_type": "stream",
     "text": [
      "Oh yeah, I am a function! I print things on the screen\n"
     ]
    }
   ],
   "source": [
    "print(\"Oh yeah, I am a function! I print things on the screen\")"
   ]
  },
  {
   "cell_type": "markdown",
   "metadata": {},
   "source": [
    "We have briefly seen the `input` function as well, which is designed to get input from the user."
   ]
  },
  {
   "cell_type": "code",
   "execution_count": 2,
   "metadata": {},
   "outputs": [
    {
     "name": "stdout",
     "output_type": "stream",
     "text": [
      "I get inputs from you! What is your name?Shameka\n",
      "Hello Shameka\n"
     ]
    }
   ],
   "source": [
    "name = input(\"I get inputs from you! What is your name?\")\n",
    "print(\"Hello\", name)"
   ]
  },
  {
   "cell_type": "markdown",
   "metadata": {},
   "source": [
    "You have already encountered `len`, `sum`, `max`, and `min`."
   ]
  },
  {
   "cell_type": "code",
   "execution_count": 3,
   "metadata": {},
   "outputs": [
    {
     "name": "stdout",
     "output_type": "stream",
     "text": [
      "Length: 6\n",
      "Max: 74\n",
      "Min: 3\n",
      "Sum: 154\n"
     ]
    }
   ],
   "source": [
    "nums = [3, 41, 12, 9, 74, 15]\n",
    "print(\"Length:\", len(nums))\n",
    "print(\"Max:\", max(nums))\n",
    "print(\"Min:\", min(nums))\n",
    "print(\"Sum:\", sum(nums))"
   ]
  },
  {
   "cell_type": "markdown",
   "metadata": {},
   "source": [
    "We have also used various type conversion functions, such as `int`, `float`, `str`, `set`, `list`,  `tuple`, and we also used `type` to find out the type of a given variable. \n",
    "\n",
    "In a variety of contexts, we also used the  `range`, `round`, and `sorted` functions."
   ]
  },
  {
   "cell_type": "code",
   "execution_count": 4,
   "metadata": {},
   "outputs": [
    {
     "data": {
      "text/plain": [
       "[-10, -8, -6, -4, -2, 0, 2, 4, 6, 8]"
      ]
     },
     "execution_count": 4,
     "metadata": {},
     "output_type": "execute_result"
    }
   ],
   "source": [
    "list(range(-10,10,2))"
   ]
  },
  {
   "cell_type": "code",
   "execution_count": null,
   "metadata": {},
   "outputs": [],
   "source": [
    "a = [0.819, 0.277, 0.817, 0.575, 0.168, 0.973, 0.987, 0.883, 0.293, 0.933]\n",
    "# Keep only numbers above 0.5 and round them to 2 decimals\n",
    "b = [round(num,2) for num in a if num>0.5]\n",
    "print(a)\n",
    "print(b)\n",
    "print(sorted(b))"
   ]
  },
  {
   "cell_type": "markdown",
   "metadata": {},
   "source": [
    "The list at https://docs.python.org/3/library/functions.html contains all the built-in functions of Python. **As a general rule of thumb, avoid using these bult-in function names as variable names.**"
   ]
  },
  {
   "cell_type": "markdown",
   "metadata": {},
   "source": [
    "### Functions from Libraries\n",
    "\n",
    "We can also add more functions by `import`-ing libraries. You may recall importing the `math` library. "
   ]
  },
  {
   "cell_type": "code",
   "execution_count": null,
   "metadata": {},
   "outputs": [],
   "source": [
    "# Let's have some fun\n",
    "import math\n",
    "for i in range(32):\n",
    "    # math.fabs returns the absolute value\n",
    "    # math.cos returns the cosine of the value\n",
    "    x = int(math.fabs((i*math.cos(i/4)))+1)\n",
    "    print(x*'#')"
   ]
  },
  {
   "cell_type": "markdown",
   "metadata": {},
   "source": [
    "Another commonly used library is the `random` library that returns random numbers."
   ]
  },
  {
   "cell_type": "code",
   "execution_count": null,
   "metadata": {
    "scrolled": true
   },
   "outputs": [],
   "source": [
    "import random\n",
    "for i in range(10):\n",
    "    x = random.random()\n",
    "    print(round(x,3))"
   ]
  },
  {
   "cell_type": "markdown",
   "metadata": {},
   "source": [
    "#### Integrated Example: Guess the secret"
   ]
  },
  {
   "cell_type": "markdown",
   "metadata": {},
   "source": [
    "Let's play a game, to see the `random` function, together with for loops, break, if-else, all together in action:"
   ]
  },
  {
   "cell_type": "code",
   "execution_count": null,
   "metadata": {},
   "outputs": [],
   "source": [
    "# The computer selects a random number\n",
    "max_secret = 100\n",
    "secret = random.randint(1, max_secret)\n",
    "# We will allow a total of max_round guesses\n",
    "max_rounds = 3\n",
    "won = False # We set this to False as the player has not (yet) won\n",
    "# Iterate a total of max_rounds\n",
    "for t in range(1,max_rounds+1):\n",
    "    print(\"Round:\", t, \"of\", max_rounds)\n",
    "    prompt = \"Find the number, from 1 to {m}: \".format(m=max_secret)\n",
    "    answer = int(input(prompt))\n",
    "    if secret==answer:\n",
    "        print(\"Great, you got it in\", t,\"rounds!\")\n",
    "        won = True # This is the only place where we set won to True\n",
    "        break\n",
    "    elif secret<answer:\n",
    "        print(\"Your guess is too high!\")\n",
    "    elif secret>answer:\n",
    "        print(\"Your guess is too low!\")\n",
    "# We are out of the loop. The variable won will be \n",
    "# still False if the user never guessed correctly\n",
    "if not won:\n",
    "    print(\"You lost! The secret number was\", secret)"
   ]
  },
  {
   "cell_type": "code",
   "execution_count": 1,
   "metadata": {},
   "outputs": [
    {
     "data": {
      "text/plain": [
       "[1, 2, 3]"
      ]
     },
     "execution_count": 1,
     "metadata": {},
     "output_type": "execute_result"
    }
   ],
   "source": [
    "max_rounds = 3\n",
    "list(range(1,max_rounds+1))"
   ]
  },
  {
   "cell_type": "markdown",
   "metadata": {},
   "source": [
    "### User Defined Functions\n",
    "\n",
    "\n",
    "** See also Examples 18, 19, 20, and 21 from Learn Python the Hard Way **\n",
    "\n",
    "Functions assign a name to a block of code the way variables assign names to bits of data. This seeminly benign naming of things is incredibly powerful; alloing one to reuse common functionality over and over. Well-tested functions form building blocks for large, complex systems. As you progress through python, you'll find yourself using powerful functions defined in some of python's vast libraries of code. \n",
    "\n"
   ]
  },
  {
   "cell_type": "markdown",
   "metadata": {},
   "source": [
    "Function definitions begin with the `def` keyword, followed by the name you wish to assign to a function. Following this name are parentheses, `( )`, containing zero or more variable names, those values that are passed into the function. There is then a colon, followed by a code block defining the actions of the function:"
   ]
  },
  {
   "cell_type": "markdown",
   "metadata": {},
   "source": [
    "#### Printing \"Hi\"\n",
    "\n",
    "Let's start by looking at a function that performs a set of steps."
   ]
  },
  {
   "cell_type": "code",
   "execution_count": null,
   "metadata": {},
   "outputs": [],
   "source": [
    "def print_hi():\n",
    "    print(\"hi!\")"
   ]
  },
  {
   "cell_type": "code",
   "execution_count": null,
   "metadata": {},
   "outputs": [],
   "source": [
    "for i in range(10):\n",
    "    print_hi()"
   ]
  },
  {
   "cell_type": "code",
   "execution_count": null,
   "metadata": {},
   "outputs": [],
   "source": [
    "def hi_you(name):\n",
    "    print(\"HI {n}!\".format(n=name.upper()))"
   ]
  },
  {
   "cell_type": "code",
   "execution_count": null,
   "metadata": {},
   "outputs": [],
   "source": [
    "hi_you(\"David\")"
   ]
  },
  {
   "cell_type": "markdown",
   "metadata": {},
   "source": [
    "#### The `return` statement \n",
    "\n",
    "Example of computing a math function"
   ]
  },
  {
   "cell_type": "code",
   "execution_count": null,
   "metadata": {},
   "outputs": [],
   "source": [
    "# The functions are often designed to **return** the\n",
    "# result of a computation/operation\n",
    "def square(num):\n",
    "    squared = num*num\n",
    "    return squared\n"
   ]
  },
  {
   "cell_type": "code",
   "execution_count": null,
   "metadata": {},
   "outputs": [],
   "source": [
    "x = square(123232)\n",
    "print(x)\n"
   ]
  },
  {
   "cell_type": "code",
   "execution_count": null,
   "metadata": {},
   "outputs": [],
   "source": [
    "for i in range(15):\n",
    "    print(\"The square of {a} is {aa}\".format(a=i, aa=square(i)))"
   ]
  },
  {
   "cell_type": "markdown",
   "metadata": {},
   "source": [
    "Note that the function `square` has a special keyword `return`. The argument to return is passed to whatever piece of code is calling the function. In this case, the square of the number that was input. "
   ]
  },
  {
   "cell_type": "markdown",
   "metadata": {},
   "source": [
    "#### Example function: Cleaning up a string"
   ]
  },
  {
   "cell_type": "code",
   "execution_count": null,
   "metadata": {},
   "outputs": [],
   "source": [
    "# this function takes as input a phone (string variable)\n",
    "# and prints only its digits\n",
    "def clean(phone):\n",
    "    result = \"\"\n",
    "    digits = {\"0\",\"1\",\"2\",\"3\",\"4\",\"5\",\"6\",\"7\",\"8\",\"9\"}\n",
    "    for c in phone:\n",
    "        if c in digits:\n",
    "            result = result + c\n",
    "    return result        \n"
   ]
  },
  {
   "cell_type": "code",
   "execution_count": null,
   "metadata": {},
   "outputs": [],
   "source": [
    "p = \"(800) 555-1214 Panos Phone number\"\n",
    "print(clean(p))"
   ]
  },
  {
   "cell_type": "markdown",
   "metadata": {},
   "source": [
    "#### Exercises\n",
    "\n",
    "* Write a function `in_range` that checks if a number `n` is within a given range `(a,b)` and returns True or False. The function takes n, a, and b as parameters.\n",
    "\n"
   ]
  },
  {
   "cell_type": "code",
   "execution_count": null,
   "metadata": {
    "collapsed": true
   },
   "outputs": [],
   "source": []
  },
  {
   "cell_type": "markdown",
   "metadata": {},
   "source": [
    "* Write a `dedup` function that takes as input a list and returns back another list, with only unique elements and sorted. For example, if the input is `[1,2,5,5,5,3,3,3,3,4,5]` the returned list should be `[1, 2, 3, 4, 5]`. If the input is `['New York', 'New York',  'Paris', 'London', 'Paris']` the returned list should be `['London', 'New York', 'Paris']`."
   ]
  },
  {
   "cell_type": "code",
   "execution_count": null,
   "metadata": {
    "collapsed": true
   },
   "outputs": [],
   "source": []
  },
  {
   "cell_type": "markdown",
   "metadata": {},
   "source": [
    "* Write a function that generates a random password with `n` letters. The value `n` should be a parameter."
   ]
  },
  {
   "cell_type": "code",
   "execution_count": null,
   "metadata": {},
   "outputs": [],
   "source": [
    "# This code generates one random letter\n",
    "import random\n",
    "import string\n",
    "random.choice(string.ascii_letters)"
   ]
  },
  {
   "cell_type": "markdown",
   "metadata": {},
   "source": [
    "### Variable Scope (Advanced)\n",
    "\n",
    "_whatever happens in a function stays in a function_\n",
    "\n",
    "Variables set inside of functions are said to be `scoped` to those functions: changes, including any new variables created, are only accessible while in the function code block (with some exceptions). If \"outside\" variables are modified inside a function's context, the contents of that variable are first copied.\n",
    "\n",
    "Similarly, changes or modifications to a function's arguments aren't reflected once the scope is returned; The variable will continue to point to the original thing. However, it is possible to modify the thing that is passed, assuming that it is mutable."
   ]
  },
  {
   "cell_type": "code",
   "execution_count": null,
   "metadata": {},
   "outputs": [],
   "source": [
    "# inside a function's context, changes to a variable defined outside that\n",
    "# context aren't reflected once the context is returned\n",
    "def times_two(inp):\n",
    "    inp = 2*inp\n",
    "    return inp\n",
    "\n",
    "variable_four = 4\n",
    "print(times_two(variable_four))\n",
    "print(variable_four)"
   ]
  },
  {
   "cell_type": "code",
   "execution_count": null,
   "metadata": {},
   "outputs": [],
   "source": [
    "# inside a function's context, changes to a variable defined outside that\n",
    "# context aren't reflected once the context is returned\n",
    "\n",
    "name = \"panos\"\n",
    "def do_something():\n",
    "    print(\"We are now in the function!\")\n",
    "    name = \"not panos\"\n",
    "    print(name)\n",
    "    print(\"something! ... and we are out\")"
   ]
  },
  {
   "cell_type": "code",
   "execution_count": null,
   "metadata": {},
   "outputs": [],
   "source": [
    "print(\"We start here!\")\n",
    "print(\"The name is\", name)\n",
    "print(\"Let's call the function...\")\n",
    "do_something()\n",
    "print(\"Done with the function...\")\n",
    "print(name)"
   ]
  },
  {
   "cell_type": "code",
   "execution_count": null,
   "metadata": {},
   "outputs": [],
   "source": [
    "# variables created in a function aren't accessible \n",
    "# outside that function's context\n",
    "def do_something_new():\n",
    "    thing = \"123\"\n",
    "    print(\"Hi!\")\n",
    "\n",
    "do_something_new()\n",
    "print(thing)"
   ]
  },
  {
   "cell_type": "code",
   "execution_count": null,
   "metadata": {},
   "outputs": [],
   "source": [
    "# composite data structures (lists, sets, dictionaries) _can_ be modified\n",
    "def add_sum(parameter_list):\n",
    "    s = sum(parameter_list)\n",
    "    parameter_list.append(s)\n",
    "    return s\n",
    "\n",
    "a_list = [1,2,3]\n",
    "total = add_sum(a_list)\n",
    "print(total)\n",
    "print(a_list)\n",
    "\n",
    "# try again!\n",
    "tot = add_sum(a_list)\n",
    "print(tot)\n",
    "print(a_list)\n"
   ]
  }
 ],
 "metadata": {
  "kernelspec": {
   "display_name": "Python 3",
   "language": "python",
   "name": "python3"
  },
  "language_info": {
   "codemirror_mode": {
    "name": "ipython",
    "version": 3
   },
   "file_extension": ".py",
   "mimetype": "text/x-python",
   "name": "python",
   "nbconvert_exporter": "python",
   "pygments_lexer": "ipython3",
   "version": "3.5.2"
  }
 },
 "nbformat": 4,
 "nbformat_minor": 1
}
