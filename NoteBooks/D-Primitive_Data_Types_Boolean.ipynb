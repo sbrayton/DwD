{
 "cells": [
  {
   "cell_type": "markdown",
   "metadata": {},
   "source": [
    "## Primitive Data Types\n",
    "\n",
    "These are the basic data types that constitute all of the more complex data structures in python. The basic data types are the following:\n",
    "\n",
    "* Strings (for text)\n",
    "* Numeric types (integers and decimals)\n",
    "* Booleans\n"
   ]
  },
  {
   "cell_type": "markdown",
   "metadata": {},
   "source": [
    "### Booleans:\n",
    "\n",
    "Booleans represent the truth or success of a statement, and are commonly used for branching and checking status in code.\n",
    "\n",
    "They can take two values: `True` or `False`."
   ]
  },
  {
   "cell_type": "code",
   "execution_count": null,
   "metadata": {
    "collapsed": false
   },
   "outputs": [],
   "source": [
    "bool_1 = True \n",
    "bool_2 = False\n",
    "\n",
    "print(bool_1)\n",
    "print(bool_2)"
   ]
  },
  {
   "cell_type": "markdown",
   "metadata": {},
   "source": [
    "### Boolean Operations:\n",
    "\n",
    "Frequently, one wants to combine or modify boolean values. Python has several operations for just this purpose:\n",
    "\n",
    "+ `not a`: returns the opposite value of `a`.\n",
    "+ `a and b`: returns true if and only if both `a` and `b` are true.\n",
    "+ `a or b`: returns true either `a` or `b` are true, or both.\n",
    "\n",
    "See LPTHW [Exercise 27](http://learnpythonthehardway.org/book/ex27.html) \n",
    "\n",
    "Like mathematical expressions, boolean expressions can be nested using parentheses. "
   ]
  },
  {
   "cell_type": "code",
   "execution_count": null,
   "metadata": {
    "collapsed": false
   },
   "outputs": [],
   "source": [
    "var1 = 5\n",
    "var2 = 6\n",
    "var3 = 7 "
   ]
  },
  {
   "cell_type": "markdown",
   "metadata": {},
   "source": [
    "Consider the outcomes of the following examples"
   ]
  },
  {
   "cell_type": "code",
   "execution_count": null,
   "metadata": {
    "collapsed": false
   },
   "outputs": [],
   "source": [
    "print (var1 + var2 == 11)"
   ]
  },
  {
   "cell_type": "code",
   "execution_count": null,
   "metadata": {
    "collapsed": false
   },
   "outputs": [],
   "source": [
    "print (var2 + var3 == 13)"
   ]
  },
  {
   "cell_type": "code",
   "execution_count": null,
   "metadata": {
    "collapsed": false
   },
   "outputs": [],
   "source": [
    "print (var1 + var2 == 11 and var2 + var3 == 13)"
   ]
  },
  {
   "cell_type": "code",
   "execution_count": null,
   "metadata": {
    "collapsed": false
   },
   "outputs": [],
   "source": [
    "print (var1 + var2 == 12 and var2 + var3 == 13)"
   ]
  },
  {
   "cell_type": "code",
   "execution_count": null,
   "metadata": {
    "collapsed": false
   },
   "outputs": [],
   "source": [
    "print (var1 + var2 == 12 or var2 + var3 == 13)"
   ]
  },
  {
   "cell_type": "code",
   "execution_count": null,
   "metadata": {
    "collapsed": false
   },
   "outputs": [],
   "source": [
    "print ( (not var1 + var2 == 12) or (    var2 + var3 == 14) )"
   ]
  },
  {
   "cell_type": "markdown",
   "metadata": {},
   "source": [
    "### Exercise\n",
    "\n",
    "Complete Exercises 1-12 in [28](http://learnpythonthehardway.org/book/ex28.html) at LPTHW. You can find them also below. Try to find the outcome before executing the cell."
   ]
  },
  {
   "cell_type": "code",
   "execution_count": null,
   "metadata": {
    "collapsed": true
   },
   "outputs": [],
   "source": [
    "#1\n",
    "True and True"
   ]
  },
  {
   "cell_type": "code",
   "execution_count": null,
   "metadata": {
    "collapsed": true
   },
   "outputs": [],
   "source": [
    "#2\n",
    "False and True"
   ]
  },
  {
   "cell_type": "code",
   "execution_count": null,
   "metadata": {
    "collapsed": true
   },
   "outputs": [],
   "source": [
    "#3\n",
    "1 == 1 and 2 == 1"
   ]
  },
  {
   "cell_type": "code",
   "execution_count": null,
   "metadata": {
    "collapsed": true
   },
   "outputs": [],
   "source": [
    "#4\n",
    "\"test\" == \"test\""
   ]
  },
  {
   "cell_type": "code",
   "execution_count": null,
   "metadata": {
    "collapsed": true
   },
   "outputs": [],
   "source": [
    "#5\n",
    "1 == 1 or 2 != 1"
   ]
  },
  {
   "cell_type": "code",
   "execution_count": null,
   "metadata": {
    "collapsed": true
   },
   "outputs": [],
   "source": [
    "#6\n",
    "True and 1 == 1"
   ]
  },
  {
   "cell_type": "code",
   "execution_count": null,
   "metadata": {
    "collapsed": true
   },
   "outputs": [],
   "source": [
    "#7\n",
    "False and 0 != 0"
   ]
  },
  {
   "cell_type": "code",
   "execution_count": null,
   "metadata": {
    "collapsed": true
   },
   "outputs": [],
   "source": [
    "#8\n",
    "True or 1 == 1"
   ]
  },
  {
   "cell_type": "code",
   "execution_count": null,
   "metadata": {
    "collapsed": true
   },
   "outputs": [],
   "source": [
    "#9\n",
    "\"test\" == \"testing\""
   ]
  },
  {
   "cell_type": "code",
   "execution_count": null,
   "metadata": {
    "collapsed": true
   },
   "outputs": [],
   "source": [
    "#10\n",
    "1 != 0 and 2 == 1"
   ]
  },
  {
   "cell_type": "code",
   "execution_count": null,
   "metadata": {
    "collapsed": true
   },
   "outputs": [],
   "source": [
    "#11\n",
    "\"test\" != \"testing\""
   ]
  },
  {
   "cell_type": "code",
   "execution_count": null,
   "metadata": {
    "collapsed": true
   },
   "outputs": [],
   "source": [
    "#12\n",
    "\"test\" == 1"
   ]
  },
  {
   "cell_type": "markdown",
   "metadata": {},
   "source": [
    "Now Complete Exercises 12-20 in [28](http://learnpythonthehardway.org/book/ex28.html). But this time let's examine how to evaluate these expressions on a step by step basis."
   ]
  },
  {
   "cell_type": "code",
   "execution_count": null,
   "metadata": {
    "collapsed": true
   },
   "outputs": [],
   "source": [
    "#13\n",
    "not (True and False)"
   ]
  },
  {
   "cell_type": "code",
   "execution_count": null,
   "metadata": {
    "collapsed": true
   },
   "outputs": [],
   "source": [
    "#14\n",
    "not (1 == 1 and 0 != 1)"
   ]
  },
  {
   "cell_type": "code",
   "execution_count": null,
   "metadata": {
    "collapsed": true
   },
   "outputs": [],
   "source": [
    "#15\n",
    "not (10 == 1 or 1000 == 1000)"
   ]
  },
  {
   "cell_type": "code",
   "execution_count": null,
   "metadata": {
    "collapsed": true
   },
   "outputs": [],
   "source": [
    "#16\n",
    "not (1 != 10 or 3 == 4)"
   ]
  },
  {
   "cell_type": "code",
   "execution_count": null,
   "metadata": {
    "collapsed": true
   },
   "outputs": [],
   "source": [
    "#17\n",
    "not (\"testing\" == \"testing\" and \"Zed\" == \"Cool Guy\")"
   ]
  },
  {
   "cell_type": "code",
   "execution_count": null,
   "metadata": {
    "collapsed": true
   },
   "outputs": [],
   "source": [
    "#18\n",
    "1 == 1 and (not (\"testing\" == 1 or 1 == 0))"
   ]
  },
  {
   "cell_type": "code",
   "execution_count": null,
   "metadata": {
    "collapsed": true
   },
   "outputs": [],
   "source": [
    "#19\n",
    "\"chunky\" == \"bacon\" and (not (3 == 4 or 3 == 3))"
   ]
  },
  {
   "cell_type": "code",
   "execution_count": null,
   "metadata": {
    "collapsed": true
   },
   "outputs": [],
   "source": [
    "#20\n",
    "3 == 3 and (not (\"testing\" == \"testing\" or \"Python\" == \"Fun\"))"
   ]
  },
  {
   "cell_type": "code",
   "execution_count": null,
   "metadata": {
    "collapsed": true
   },
   "outputs": [],
   "source": [
    "#bonus\n",
    "3 != 4 and not (\"testing\" != \"test\" or \"Python\" == \"Python\")"
   ]
  },
  {
   "cell_type": "markdown",
   "metadata": {},
   "source": [
    "### Exercise\n",
    "\n",
    "Now let's try to write the boolean expressions that will evaluate different conditions, given a set of other variables."
   ]
  },
  {
   "cell_type": "code",
   "execution_count": null,
   "metadata": {
    "collapsed": false
   },
   "outputs": [],
   "source": [
    "age = 18\n",
    "# You need to be above 21 yo\n",
    "can_drink_alcohol = False # your code here, replace \"False\" with an expression\n",
    "print(\"Age: {age}; can drink alcohol? {alc}\"\n",
    "      .format(age=age,alc=can_drink_alcohol) )"
   ]
  },
  {
   "cell_type": "code",
   "execution_count": null,
   "metadata": {
    "collapsed": false
   },
   "outputs": [],
   "source": [
    "age = 18\n",
    "# You need to be above 16 yo\n",
    "can_get_driving_license = False # your code here, replace \"False\" with an expression\n",
    "print(\"Age: {age}; can get driving license? {dmv}\"\n",
    "      .format(age=age,dmv=can_get_driving_license) )"
   ]
  },
  {
   "cell_type": "code",
   "execution_count": null,
   "metadata": {
    "collapsed": false
   },
   "outputs": [],
   "source": [
    "us_citizen = True\n",
    "# You need to be a US Citizen\n",
    "can_get_us_passport = False # your code here, replace \"False\" with an expression\n",
    "print(\"US Citizen: {citz}; can get US passport? {pasp}\"\n",
    "      .format(citz=us_citizen,pasp=can_get_us_passport) )"
   ]
  },
  {
   "cell_type": "code",
   "execution_count": null,
   "metadata": {
    "collapsed": false
   },
   "outputs": [],
   "source": [
    "# You need to be above 18 and a US Citizen\n",
    "age = 18\n",
    "us_citizen = True\n",
    "can_vote = False # your code here, replace \"False\" with an expression\n",
    "print(\"US Citizen: {citz}; Age: {age}\\nCan Vote? {vote}\"\n",
    "      .format(citz=us_citizen,age=age, vote=can_vote) )"
   ]
  },
  {
   "cell_type": "code",
   "execution_count": null,
   "metadata": {
    "collapsed": false
   },
   "outputs": [],
   "source": [
    "# You need to be above 35, a US Citizen, and born in the US\n",
    "age = 70\n",
    "born_in_us = True\n",
    "us_citizen = True\n",
    "can_be_president = False # your code here, replace \"False\" with an expression\n",
    "print(\"US Citizen: {citz}; Age: {age}; Born in US? {bu}\\nCan be president? {cp}\"\n",
    "      .format(citz=us_citizen,age=age, bu=born_in_us, cp=can_be_president) )"
   ]
  },
  {
   "cell_type": "code",
   "execution_count": null,
   "metadata": {
    "collapsed": false
   },
   "outputs": [],
   "source": [
    "# Can you become citizen?\n",
    "# You qualify for a citizen if any of the following holds\n",
    "# * Your parents are US Citizens and you are under 18\n",
    "# * You have been born in the US\n",
    "age = 19\n",
    "parents_citizens = False \n",
    "born_in_us = True\n",
    "citizen_eligible = False # your code here, replace \"False\" with an expression\n",
    "print(\"Citizen parents: {par}; Age: {age}; Born in US? {bu}\\nEligible for Citizen? {cp}\"\n",
    "      .format(par=parents_citizens,age=age, bu=born_in_us, cp=citizen_eligible) )"
   ]
  },
  {
   "cell_type": "code",
   "execution_count": null,
   "metadata": {
    "collapsed": true
   },
   "outputs": [],
   "source": []
  }
 ],
 "metadata": {
  "kernelspec": {
   "display_name": "Python 3",
   "language": "python",
   "name": "python3"
  },
  "language_info": {
   "codemirror_mode": {
    "name": "ipython",
    "version": 3
   },
   "file_extension": ".py",
   "mimetype": "text/x-python",
   "name": "python",
   "nbconvert_exporter": "python",
   "pygments_lexer": "ipython3",
   "version": "3.5.2"
  }
 },
 "nbformat": 4,
 "nbformat_minor": 0
}
